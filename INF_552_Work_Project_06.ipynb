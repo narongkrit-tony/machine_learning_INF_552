{
 "cells": [
  {
   "cell_type": "markdown",
   "metadata": {},
   "source": [
    "# Narongkrit Khieopraphatsorn ID: 3975261346"
   ]
  },
  {
   "cell_type": "markdown",
   "metadata": {},
   "source": [
    "# HW6_INF 552"
   ]
  },
  {
   "cell_type": "markdown",
   "metadata": {},
   "source": [
    "### 1. Supervised, Semi-Supervised, and Unsupervised Learning\n",
    "### (a) Download the Breast Cancer Wisconsin (Diagnostic) Data Set from:\n",
    "### https://archive.ics.uci.edu/ml/datasets/Breast+Cancer+Wisconsin+ %28Diagnostic%29. Download the data in https://archive.ics.uci.edu/ml/ machine-learning-databases/breast-cancer-wisconsin/wdbc.data, which has IDs, classes (Benign=B, Malignant=M), and 30 attributes. This data has two output classes. Use the first 20% of the positive and negative classes in the file as the test set and the rest as the training set."
   ]
  },
  {
   "cell_type": "markdown",
   "metadata": {},
   "source": [
    "#### Assume B is a positive class and M is a negative class"
   ]
  },
  {
   "cell_type": "code",
   "execution_count": 1,
   "metadata": {},
   "outputs": [],
   "source": [
    "import warnings\n",
    "warnings.filterwarnings('ignore')"
   ]
  },
  {
   "cell_type": "code",
   "execution_count": 2,
   "metadata": {},
   "outputs": [],
   "source": [
    "import numpy as np\n",
    "import pandas as pd\n",
    "import seaborn as sns\n",
    "import matplotlib.pyplot as plt\n",
    "from sklearn.svm import SVC, LinearSVC\n",
    "from sklearn.preprocessing import StandardScaler, MinMaxScaler\n",
    "from sklearn.model_selection import train_test_split, GridSearchCV\n",
    "from sklearn.metrics import accuracy_score, precision_score, recall_score, f1_score, roc_auc_score, roc_curve, auc\n",
    "from sklearn.metrics import confusion_matrix\n",
    "from collections import defaultdict\n",
    "from sklearn.cluster import KMeans, SpectralClustering\n",
    "from sklearn.model_selection import KFold\n",
    "import random\n",
    "\n",
    "%matplotlib inline"
   ]
  },
  {
   "cell_type": "code",
   "execution_count": 3,
   "metadata": {},
   "outputs": [],
   "source": [
    "filename = \"https://raw.githubusercontent.com/Tony-nkt/inf_552/master/wdbc.csv\""
   ]
  },
  {
   "cell_type": "code",
   "execution_count": 4,
   "metadata": {},
   "outputs": [],
   "source": [
    "df = pd.read_csv(filename,header=None)"
   ]
  },
  {
   "cell_type": "code",
   "execution_count": 5,
   "metadata": {},
   "outputs": [],
   "source": [
    "df.rename(columns={0:'ID',1:'class'}, inplace=True)"
   ]
  },
  {
   "cell_type": "code",
   "execution_count": 6,
   "metadata": {},
   "outputs": [],
   "source": [
    "df = df.drop(\"ID\",axis=1)"
   ]
  },
  {
   "cell_type": "markdown",
   "metadata": {},
   "source": [
    "#### First 20% of positive and negative classes as the test set"
   ]
  },
  {
   "cell_type": "code",
   "execution_count": 7,
   "metadata": {},
   "outputs": [],
   "source": [
    "df_test_01 = df[df['class'] == 'B'].iloc[0:71]"
   ]
  },
  {
   "cell_type": "code",
   "execution_count": 8,
   "metadata": {},
   "outputs": [],
   "source": [
    "df_test_01 = df_test_01.append(df[df['class'] == 'M'].iloc[0:42])"
   ]
  },
  {
   "cell_type": "code",
   "execution_count": 9,
   "metadata": {},
   "outputs": [
    {
     "data": {
      "text/html": [
       "<div>\n",
       "<style scoped>\n",
       "    .dataframe tbody tr th:only-of-type {\n",
       "        vertical-align: middle;\n",
       "    }\n",
       "\n",
       "    .dataframe tbody tr th {\n",
       "        vertical-align: top;\n",
       "    }\n",
       "\n",
       "    .dataframe thead th {\n",
       "        text-align: right;\n",
       "    }\n",
       "</style>\n",
       "<table border=\"1\" class=\"dataframe\">\n",
       "  <thead>\n",
       "    <tr style=\"text-align: right;\">\n",
       "      <th></th>\n",
       "      <th>class</th>\n",
       "      <th>2</th>\n",
       "      <th>3</th>\n",
       "      <th>4</th>\n",
       "      <th>5</th>\n",
       "      <th>6</th>\n",
       "      <th>7</th>\n",
       "      <th>8</th>\n",
       "      <th>9</th>\n",
       "      <th>10</th>\n",
       "      <th>...</th>\n",
       "      <th>22</th>\n",
       "      <th>23</th>\n",
       "      <th>24</th>\n",
       "      <th>25</th>\n",
       "      <th>26</th>\n",
       "      <th>27</th>\n",
       "      <th>28</th>\n",
       "      <th>29</th>\n",
       "      <th>30</th>\n",
       "      <th>31</th>\n",
       "    </tr>\n",
       "  </thead>\n",
       "  <tbody>\n",
       "    <tr>\n",
       "      <th>19</th>\n",
       "      <td>B</td>\n",
       "      <td>13.540</td>\n",
       "      <td>14.36</td>\n",
       "      <td>87.46</td>\n",
       "      <td>566.3</td>\n",
       "      <td>0.09779</td>\n",
       "      <td>0.08129</td>\n",
       "      <td>0.06664</td>\n",
       "      <td>0.047810</td>\n",
       "      <td>0.1885</td>\n",
       "      <td>...</td>\n",
       "      <td>15.110</td>\n",
       "      <td>19.26</td>\n",
       "      <td>99.70</td>\n",
       "      <td>711.2</td>\n",
       "      <td>0.14400</td>\n",
       "      <td>0.17730</td>\n",
       "      <td>0.23900</td>\n",
       "      <td>0.12880</td>\n",
       "      <td>0.2977</td>\n",
       "      <td>0.07259</td>\n",
       "    </tr>\n",
       "    <tr>\n",
       "      <th>20</th>\n",
       "      <td>B</td>\n",
       "      <td>13.080</td>\n",
       "      <td>15.71</td>\n",
       "      <td>85.63</td>\n",
       "      <td>520.0</td>\n",
       "      <td>0.10750</td>\n",
       "      <td>0.12700</td>\n",
       "      <td>0.04568</td>\n",
       "      <td>0.031100</td>\n",
       "      <td>0.1967</td>\n",
       "      <td>...</td>\n",
       "      <td>14.500</td>\n",
       "      <td>20.49</td>\n",
       "      <td>96.09</td>\n",
       "      <td>630.5</td>\n",
       "      <td>0.13120</td>\n",
       "      <td>0.27760</td>\n",
       "      <td>0.18900</td>\n",
       "      <td>0.07283</td>\n",
       "      <td>0.3184</td>\n",
       "      <td>0.08183</td>\n",
       "    </tr>\n",
       "    <tr>\n",
       "      <th>21</th>\n",
       "      <td>B</td>\n",
       "      <td>9.504</td>\n",
       "      <td>12.44</td>\n",
       "      <td>60.34</td>\n",
       "      <td>273.9</td>\n",
       "      <td>0.10240</td>\n",
       "      <td>0.06492</td>\n",
       "      <td>0.02956</td>\n",
       "      <td>0.020760</td>\n",
       "      <td>0.1815</td>\n",
       "      <td>...</td>\n",
       "      <td>10.230</td>\n",
       "      <td>15.66</td>\n",
       "      <td>65.13</td>\n",
       "      <td>314.9</td>\n",
       "      <td>0.13240</td>\n",
       "      <td>0.11480</td>\n",
       "      <td>0.08867</td>\n",
       "      <td>0.06227</td>\n",
       "      <td>0.2450</td>\n",
       "      <td>0.07773</td>\n",
       "    </tr>\n",
       "    <tr>\n",
       "      <th>37</th>\n",
       "      <td>B</td>\n",
       "      <td>13.030</td>\n",
       "      <td>18.42</td>\n",
       "      <td>82.61</td>\n",
       "      <td>523.8</td>\n",
       "      <td>0.08983</td>\n",
       "      <td>0.03766</td>\n",
       "      <td>0.02562</td>\n",
       "      <td>0.029230</td>\n",
       "      <td>0.1467</td>\n",
       "      <td>...</td>\n",
       "      <td>13.300</td>\n",
       "      <td>22.81</td>\n",
       "      <td>84.46</td>\n",
       "      <td>545.9</td>\n",
       "      <td>0.09701</td>\n",
       "      <td>0.04619</td>\n",
       "      <td>0.04833</td>\n",
       "      <td>0.05013</td>\n",
       "      <td>0.1987</td>\n",
       "      <td>0.06169</td>\n",
       "    </tr>\n",
       "    <tr>\n",
       "      <th>46</th>\n",
       "      <td>B</td>\n",
       "      <td>8.196</td>\n",
       "      <td>16.84</td>\n",
       "      <td>51.71</td>\n",
       "      <td>201.9</td>\n",
       "      <td>0.08600</td>\n",
       "      <td>0.05943</td>\n",
       "      <td>0.01588</td>\n",
       "      <td>0.005917</td>\n",
       "      <td>0.1769</td>\n",
       "      <td>...</td>\n",
       "      <td>8.964</td>\n",
       "      <td>21.96</td>\n",
       "      <td>57.26</td>\n",
       "      <td>242.2</td>\n",
       "      <td>0.12970</td>\n",
       "      <td>0.13570</td>\n",
       "      <td>0.06880</td>\n",
       "      <td>0.02564</td>\n",
       "      <td>0.3105</td>\n",
       "      <td>0.07409</td>\n",
       "    </tr>\n",
       "  </tbody>\n",
       "</table>\n",
       "<p>5 rows × 31 columns</p>\n",
       "</div>"
      ],
      "text/plain": [
       "   class       2      3      4      5        6        7        8         9  \\\n",
       "19     B  13.540  14.36  87.46  566.3  0.09779  0.08129  0.06664  0.047810   \n",
       "20     B  13.080  15.71  85.63  520.0  0.10750  0.12700  0.04568  0.031100   \n",
       "21     B   9.504  12.44  60.34  273.9  0.10240  0.06492  0.02956  0.020760   \n",
       "37     B  13.030  18.42  82.61  523.8  0.08983  0.03766  0.02562  0.029230   \n",
       "46     B   8.196  16.84  51.71  201.9  0.08600  0.05943  0.01588  0.005917   \n",
       "\n",
       "        10  ...      22     23     24     25       26       27       28  \\\n",
       "19  0.1885  ...  15.110  19.26  99.70  711.2  0.14400  0.17730  0.23900   \n",
       "20  0.1967  ...  14.500  20.49  96.09  630.5  0.13120  0.27760  0.18900   \n",
       "21  0.1815  ...  10.230  15.66  65.13  314.9  0.13240  0.11480  0.08867   \n",
       "37  0.1467  ...  13.300  22.81  84.46  545.9  0.09701  0.04619  0.04833   \n",
       "46  0.1769  ...   8.964  21.96  57.26  242.2  0.12970  0.13570  0.06880   \n",
       "\n",
       "         29      30       31  \n",
       "19  0.12880  0.2977  0.07259  \n",
       "20  0.07283  0.3184  0.08183  \n",
       "21  0.06227  0.2450  0.07773  \n",
       "37  0.05013  0.1987  0.06169  \n",
       "46  0.02564  0.3105  0.07409  \n",
       "\n",
       "[5 rows x 31 columns]"
      ]
     },
     "execution_count": 9,
     "metadata": {},
     "output_type": "execute_result"
    }
   ],
   "source": [
    "df[df['class'] == 'B'].iloc[0:71].head()"
   ]
  },
  {
   "cell_type": "code",
   "execution_count": 10,
   "metadata": {},
   "outputs": [
    {
     "data": {
      "text/html": [
       "<div>\n",
       "<style scoped>\n",
       "    .dataframe tbody tr th:only-of-type {\n",
       "        vertical-align: middle;\n",
       "    }\n",
       "\n",
       "    .dataframe tbody tr th {\n",
       "        vertical-align: top;\n",
       "    }\n",
       "\n",
       "    .dataframe thead th {\n",
       "        text-align: right;\n",
       "    }\n",
       "</style>\n",
       "<table border=\"1\" class=\"dataframe\">\n",
       "  <thead>\n",
       "    <tr style=\"text-align: right;\">\n",
       "      <th></th>\n",
       "      <th>class</th>\n",
       "      <th>2</th>\n",
       "      <th>3</th>\n",
       "      <th>4</th>\n",
       "      <th>5</th>\n",
       "      <th>6</th>\n",
       "      <th>7</th>\n",
       "      <th>8</th>\n",
       "      <th>9</th>\n",
       "      <th>10</th>\n",
       "      <th>...</th>\n",
       "      <th>22</th>\n",
       "      <th>23</th>\n",
       "      <th>24</th>\n",
       "      <th>25</th>\n",
       "      <th>26</th>\n",
       "      <th>27</th>\n",
       "      <th>28</th>\n",
       "      <th>29</th>\n",
       "      <th>30</th>\n",
       "      <th>31</th>\n",
       "    </tr>\n",
       "  </thead>\n",
       "  <tbody>\n",
       "    <tr>\n",
       "      <th>0</th>\n",
       "      <td>M</td>\n",
       "      <td>17.99</td>\n",
       "      <td>10.38</td>\n",
       "      <td>122.80</td>\n",
       "      <td>1001.0</td>\n",
       "      <td>0.11840</td>\n",
       "      <td>0.27760</td>\n",
       "      <td>0.3001</td>\n",
       "      <td>0.14710</td>\n",
       "      <td>0.2419</td>\n",
       "      <td>...</td>\n",
       "      <td>25.38</td>\n",
       "      <td>17.33</td>\n",
       "      <td>184.60</td>\n",
       "      <td>2019.0</td>\n",
       "      <td>0.1622</td>\n",
       "      <td>0.6656</td>\n",
       "      <td>0.7119</td>\n",
       "      <td>0.2654</td>\n",
       "      <td>0.4601</td>\n",
       "      <td>0.11890</td>\n",
       "    </tr>\n",
       "    <tr>\n",
       "      <th>1</th>\n",
       "      <td>M</td>\n",
       "      <td>20.57</td>\n",
       "      <td>17.77</td>\n",
       "      <td>132.90</td>\n",
       "      <td>1326.0</td>\n",
       "      <td>0.08474</td>\n",
       "      <td>0.07864</td>\n",
       "      <td>0.0869</td>\n",
       "      <td>0.07017</td>\n",
       "      <td>0.1812</td>\n",
       "      <td>...</td>\n",
       "      <td>24.99</td>\n",
       "      <td>23.41</td>\n",
       "      <td>158.80</td>\n",
       "      <td>1956.0</td>\n",
       "      <td>0.1238</td>\n",
       "      <td>0.1866</td>\n",
       "      <td>0.2416</td>\n",
       "      <td>0.1860</td>\n",
       "      <td>0.2750</td>\n",
       "      <td>0.08902</td>\n",
       "    </tr>\n",
       "    <tr>\n",
       "      <th>2</th>\n",
       "      <td>M</td>\n",
       "      <td>19.69</td>\n",
       "      <td>21.25</td>\n",
       "      <td>130.00</td>\n",
       "      <td>1203.0</td>\n",
       "      <td>0.10960</td>\n",
       "      <td>0.15990</td>\n",
       "      <td>0.1974</td>\n",
       "      <td>0.12790</td>\n",
       "      <td>0.2069</td>\n",
       "      <td>...</td>\n",
       "      <td>23.57</td>\n",
       "      <td>25.53</td>\n",
       "      <td>152.50</td>\n",
       "      <td>1709.0</td>\n",
       "      <td>0.1444</td>\n",
       "      <td>0.4245</td>\n",
       "      <td>0.4504</td>\n",
       "      <td>0.2430</td>\n",
       "      <td>0.3613</td>\n",
       "      <td>0.08758</td>\n",
       "    </tr>\n",
       "    <tr>\n",
       "      <th>3</th>\n",
       "      <td>M</td>\n",
       "      <td>11.42</td>\n",
       "      <td>20.38</td>\n",
       "      <td>77.58</td>\n",
       "      <td>386.1</td>\n",
       "      <td>0.14250</td>\n",
       "      <td>0.28390</td>\n",
       "      <td>0.2414</td>\n",
       "      <td>0.10520</td>\n",
       "      <td>0.2597</td>\n",
       "      <td>...</td>\n",
       "      <td>14.91</td>\n",
       "      <td>26.50</td>\n",
       "      <td>98.87</td>\n",
       "      <td>567.7</td>\n",
       "      <td>0.2098</td>\n",
       "      <td>0.8663</td>\n",
       "      <td>0.6869</td>\n",
       "      <td>0.2575</td>\n",
       "      <td>0.6638</td>\n",
       "      <td>0.17300</td>\n",
       "    </tr>\n",
       "    <tr>\n",
       "      <th>4</th>\n",
       "      <td>M</td>\n",
       "      <td>20.29</td>\n",
       "      <td>14.34</td>\n",
       "      <td>135.10</td>\n",
       "      <td>1297.0</td>\n",
       "      <td>0.10030</td>\n",
       "      <td>0.13280</td>\n",
       "      <td>0.1980</td>\n",
       "      <td>0.10430</td>\n",
       "      <td>0.1809</td>\n",
       "      <td>...</td>\n",
       "      <td>22.54</td>\n",
       "      <td>16.67</td>\n",
       "      <td>152.20</td>\n",
       "      <td>1575.0</td>\n",
       "      <td>0.1374</td>\n",
       "      <td>0.2050</td>\n",
       "      <td>0.4000</td>\n",
       "      <td>0.1625</td>\n",
       "      <td>0.2364</td>\n",
       "      <td>0.07678</td>\n",
       "    </tr>\n",
       "  </tbody>\n",
       "</table>\n",
       "<p>5 rows × 31 columns</p>\n",
       "</div>"
      ],
      "text/plain": [
       "  class      2      3       4       5        6        7       8        9  \\\n",
       "0     M  17.99  10.38  122.80  1001.0  0.11840  0.27760  0.3001  0.14710   \n",
       "1     M  20.57  17.77  132.90  1326.0  0.08474  0.07864  0.0869  0.07017   \n",
       "2     M  19.69  21.25  130.00  1203.0  0.10960  0.15990  0.1974  0.12790   \n",
       "3     M  11.42  20.38   77.58   386.1  0.14250  0.28390  0.2414  0.10520   \n",
       "4     M  20.29  14.34  135.10  1297.0  0.10030  0.13280  0.1980  0.10430   \n",
       "\n",
       "       10  ...     22     23      24      25      26      27      28      29  \\\n",
       "0  0.2419  ...  25.38  17.33  184.60  2019.0  0.1622  0.6656  0.7119  0.2654   \n",
       "1  0.1812  ...  24.99  23.41  158.80  1956.0  0.1238  0.1866  0.2416  0.1860   \n",
       "2  0.2069  ...  23.57  25.53  152.50  1709.0  0.1444  0.4245  0.4504  0.2430   \n",
       "3  0.2597  ...  14.91  26.50   98.87   567.7  0.2098  0.8663  0.6869  0.2575   \n",
       "4  0.1809  ...  22.54  16.67  152.20  1575.0  0.1374  0.2050  0.4000  0.1625   \n",
       "\n",
       "       30       31  \n",
       "0  0.4601  0.11890  \n",
       "1  0.2750  0.08902  \n",
       "2  0.3613  0.08758  \n",
       "3  0.6638  0.17300  \n",
       "4  0.2364  0.07678  \n",
       "\n",
       "[5 rows x 31 columns]"
      ]
     },
     "execution_count": 10,
     "metadata": {},
     "output_type": "execute_result"
    }
   ],
   "source": [
    "df[df['class'] == 'M'].iloc[0:42].head()"
   ]
  },
  {
   "cell_type": "code",
   "execution_count": 11,
   "metadata": {},
   "outputs": [
    {
     "data": {
      "text/html": [
       "<div>\n",
       "<style scoped>\n",
       "    .dataframe tbody tr th:only-of-type {\n",
       "        vertical-align: middle;\n",
       "    }\n",
       "\n",
       "    .dataframe tbody tr th {\n",
       "        vertical-align: top;\n",
       "    }\n",
       "\n",
       "    .dataframe thead th {\n",
       "        text-align: right;\n",
       "    }\n",
       "</style>\n",
       "<table border=\"1\" class=\"dataframe\">\n",
       "  <thead>\n",
       "    <tr style=\"text-align: right;\">\n",
       "      <th></th>\n",
       "      <th>class</th>\n",
       "      <th>2</th>\n",
       "      <th>3</th>\n",
       "      <th>4</th>\n",
       "      <th>5</th>\n",
       "      <th>6</th>\n",
       "      <th>7</th>\n",
       "      <th>8</th>\n",
       "      <th>9</th>\n",
       "      <th>10</th>\n",
       "      <th>...</th>\n",
       "      <th>22</th>\n",
       "      <th>23</th>\n",
       "      <th>24</th>\n",
       "      <th>25</th>\n",
       "      <th>26</th>\n",
       "      <th>27</th>\n",
       "      <th>28</th>\n",
       "      <th>29</th>\n",
       "      <th>30</th>\n",
       "      <th>31</th>\n",
       "    </tr>\n",
       "  </thead>\n",
       "  <tbody>\n",
       "    <tr>\n",
       "      <th>19</th>\n",
       "      <td>B</td>\n",
       "      <td>13.540</td>\n",
       "      <td>14.36</td>\n",
       "      <td>87.46</td>\n",
       "      <td>566.3</td>\n",
       "      <td>0.09779</td>\n",
       "      <td>0.08129</td>\n",
       "      <td>0.06664</td>\n",
       "      <td>0.047810</td>\n",
       "      <td>0.1885</td>\n",
       "      <td>...</td>\n",
       "      <td>15.110</td>\n",
       "      <td>19.26</td>\n",
       "      <td>99.70</td>\n",
       "      <td>711.2</td>\n",
       "      <td>0.14400</td>\n",
       "      <td>0.17730</td>\n",
       "      <td>0.23900</td>\n",
       "      <td>0.12880</td>\n",
       "      <td>0.2977</td>\n",
       "      <td>0.07259</td>\n",
       "    </tr>\n",
       "    <tr>\n",
       "      <th>20</th>\n",
       "      <td>B</td>\n",
       "      <td>13.080</td>\n",
       "      <td>15.71</td>\n",
       "      <td>85.63</td>\n",
       "      <td>520.0</td>\n",
       "      <td>0.10750</td>\n",
       "      <td>0.12700</td>\n",
       "      <td>0.04568</td>\n",
       "      <td>0.031100</td>\n",
       "      <td>0.1967</td>\n",
       "      <td>...</td>\n",
       "      <td>14.500</td>\n",
       "      <td>20.49</td>\n",
       "      <td>96.09</td>\n",
       "      <td>630.5</td>\n",
       "      <td>0.13120</td>\n",
       "      <td>0.27760</td>\n",
       "      <td>0.18900</td>\n",
       "      <td>0.07283</td>\n",
       "      <td>0.3184</td>\n",
       "      <td>0.08183</td>\n",
       "    </tr>\n",
       "    <tr>\n",
       "      <th>21</th>\n",
       "      <td>B</td>\n",
       "      <td>9.504</td>\n",
       "      <td>12.44</td>\n",
       "      <td>60.34</td>\n",
       "      <td>273.9</td>\n",
       "      <td>0.10240</td>\n",
       "      <td>0.06492</td>\n",
       "      <td>0.02956</td>\n",
       "      <td>0.020760</td>\n",
       "      <td>0.1815</td>\n",
       "      <td>...</td>\n",
       "      <td>10.230</td>\n",
       "      <td>15.66</td>\n",
       "      <td>65.13</td>\n",
       "      <td>314.9</td>\n",
       "      <td>0.13240</td>\n",
       "      <td>0.11480</td>\n",
       "      <td>0.08867</td>\n",
       "      <td>0.06227</td>\n",
       "      <td>0.2450</td>\n",
       "      <td>0.07773</td>\n",
       "    </tr>\n",
       "    <tr>\n",
       "      <th>37</th>\n",
       "      <td>B</td>\n",
       "      <td>13.030</td>\n",
       "      <td>18.42</td>\n",
       "      <td>82.61</td>\n",
       "      <td>523.8</td>\n",
       "      <td>0.08983</td>\n",
       "      <td>0.03766</td>\n",
       "      <td>0.02562</td>\n",
       "      <td>0.029230</td>\n",
       "      <td>0.1467</td>\n",
       "      <td>...</td>\n",
       "      <td>13.300</td>\n",
       "      <td>22.81</td>\n",
       "      <td>84.46</td>\n",
       "      <td>545.9</td>\n",
       "      <td>0.09701</td>\n",
       "      <td>0.04619</td>\n",
       "      <td>0.04833</td>\n",
       "      <td>0.05013</td>\n",
       "      <td>0.1987</td>\n",
       "      <td>0.06169</td>\n",
       "    </tr>\n",
       "    <tr>\n",
       "      <th>46</th>\n",
       "      <td>B</td>\n",
       "      <td>8.196</td>\n",
       "      <td>16.84</td>\n",
       "      <td>51.71</td>\n",
       "      <td>201.9</td>\n",
       "      <td>0.08600</td>\n",
       "      <td>0.05943</td>\n",
       "      <td>0.01588</td>\n",
       "      <td>0.005917</td>\n",
       "      <td>0.1769</td>\n",
       "      <td>...</td>\n",
       "      <td>8.964</td>\n",
       "      <td>21.96</td>\n",
       "      <td>57.26</td>\n",
       "      <td>242.2</td>\n",
       "      <td>0.12970</td>\n",
       "      <td>0.13570</td>\n",
       "      <td>0.06880</td>\n",
       "      <td>0.02564</td>\n",
       "      <td>0.3105</td>\n",
       "      <td>0.07409</td>\n",
       "    </tr>\n",
       "  </tbody>\n",
       "</table>\n",
       "<p>5 rows × 31 columns</p>\n",
       "</div>"
      ],
      "text/plain": [
       "   class       2      3      4      5        6        7        8         9  \\\n",
       "19     B  13.540  14.36  87.46  566.3  0.09779  0.08129  0.06664  0.047810   \n",
       "20     B  13.080  15.71  85.63  520.0  0.10750  0.12700  0.04568  0.031100   \n",
       "21     B   9.504  12.44  60.34  273.9  0.10240  0.06492  0.02956  0.020760   \n",
       "37     B  13.030  18.42  82.61  523.8  0.08983  0.03766  0.02562  0.029230   \n",
       "46     B   8.196  16.84  51.71  201.9  0.08600  0.05943  0.01588  0.005917   \n",
       "\n",
       "        10  ...      22     23     24     25       26       27       28  \\\n",
       "19  0.1885  ...  15.110  19.26  99.70  711.2  0.14400  0.17730  0.23900   \n",
       "20  0.1967  ...  14.500  20.49  96.09  630.5  0.13120  0.27760  0.18900   \n",
       "21  0.1815  ...  10.230  15.66  65.13  314.9  0.13240  0.11480  0.08867   \n",
       "37  0.1467  ...  13.300  22.81  84.46  545.9  0.09701  0.04619  0.04833   \n",
       "46  0.1769  ...   8.964  21.96  57.26  242.2  0.12970  0.13570  0.06880   \n",
       "\n",
       "         29      30       31  \n",
       "19  0.12880  0.2977  0.07259  \n",
       "20  0.07283  0.3184  0.08183  \n",
       "21  0.06227  0.2450  0.07773  \n",
       "37  0.05013  0.1987  0.06169  \n",
       "46  0.02564  0.3105  0.07409  \n",
       "\n",
       "[5 rows x 31 columns]"
      ]
     },
     "execution_count": 11,
     "metadata": {},
     "output_type": "execute_result"
    }
   ],
   "source": [
    "df_test_01.head()"
   ]
  },
  {
   "cell_type": "markdown",
   "metadata": {},
   "source": [
    "#### The rest is training set"
   ]
  },
  {
   "cell_type": "code",
   "execution_count": 12,
   "metadata": {},
   "outputs": [],
   "source": [
    "df_train_01 = df[df['class'] == 'B'].iloc[71:]\n",
    "df_train_01 = df_test_01.append(df[df['class'] == 'M'].iloc[42:])"
   ]
  },
  {
   "cell_type": "code",
   "execution_count": 13,
   "metadata": {},
   "outputs": [
    {
     "data": {
      "text/html": [
       "<div>\n",
       "<style scoped>\n",
       "    .dataframe tbody tr th:only-of-type {\n",
       "        vertical-align: middle;\n",
       "    }\n",
       "\n",
       "    .dataframe tbody tr th {\n",
       "        vertical-align: top;\n",
       "    }\n",
       "\n",
       "    .dataframe thead th {\n",
       "        text-align: right;\n",
       "    }\n",
       "</style>\n",
       "<table border=\"1\" class=\"dataframe\">\n",
       "  <thead>\n",
       "    <tr style=\"text-align: right;\">\n",
       "      <th></th>\n",
       "      <th>class</th>\n",
       "      <th>2</th>\n",
       "      <th>3</th>\n",
       "      <th>4</th>\n",
       "      <th>5</th>\n",
       "      <th>6</th>\n",
       "      <th>7</th>\n",
       "      <th>8</th>\n",
       "      <th>9</th>\n",
       "      <th>10</th>\n",
       "      <th>...</th>\n",
       "      <th>22</th>\n",
       "      <th>23</th>\n",
       "      <th>24</th>\n",
       "      <th>25</th>\n",
       "      <th>26</th>\n",
       "      <th>27</th>\n",
       "      <th>28</th>\n",
       "      <th>29</th>\n",
       "      <th>30</th>\n",
       "      <th>31</th>\n",
       "    </tr>\n",
       "  </thead>\n",
       "  <tbody>\n",
       "    <tr>\n",
       "      <th>154</th>\n",
       "      <td>B</td>\n",
       "      <td>13.15</td>\n",
       "      <td>15.34</td>\n",
       "      <td>85.31</td>\n",
       "      <td>538.9</td>\n",
       "      <td>0.09384</td>\n",
       "      <td>0.08498</td>\n",
       "      <td>0.09293</td>\n",
       "      <td>0.034830</td>\n",
       "      <td>0.1822</td>\n",
       "      <td>...</td>\n",
       "      <td>14.77</td>\n",
       "      <td>20.50</td>\n",
       "      <td>97.67</td>\n",
       "      <td>677.3</td>\n",
       "      <td>0.14780</td>\n",
       "      <td>0.22560</td>\n",
       "      <td>0.30090</td>\n",
       "      <td>0.09722</td>\n",
       "      <td>0.3849</td>\n",
       "      <td>0.08633</td>\n",
       "    </tr>\n",
       "    <tr>\n",
       "      <th>155</th>\n",
       "      <td>B</td>\n",
       "      <td>12.25</td>\n",
       "      <td>17.94</td>\n",
       "      <td>78.27</td>\n",
       "      <td>460.3</td>\n",
       "      <td>0.08654</td>\n",
       "      <td>0.06679</td>\n",
       "      <td>0.03885</td>\n",
       "      <td>0.023310</td>\n",
       "      <td>0.1970</td>\n",
       "      <td>...</td>\n",
       "      <td>13.59</td>\n",
       "      <td>25.22</td>\n",
       "      <td>86.60</td>\n",
       "      <td>564.2</td>\n",
       "      <td>0.12170</td>\n",
       "      <td>0.17880</td>\n",
       "      <td>0.19430</td>\n",
       "      <td>0.08211</td>\n",
       "      <td>0.3113</td>\n",
       "      <td>0.08132</td>\n",
       "    </tr>\n",
       "    <tr>\n",
       "      <th>157</th>\n",
       "      <td>B</td>\n",
       "      <td>16.84</td>\n",
       "      <td>19.46</td>\n",
       "      <td>108.40</td>\n",
       "      <td>880.2</td>\n",
       "      <td>0.07445</td>\n",
       "      <td>0.07223</td>\n",
       "      <td>0.05150</td>\n",
       "      <td>0.027710</td>\n",
       "      <td>0.1844</td>\n",
       "      <td>...</td>\n",
       "      <td>18.22</td>\n",
       "      <td>28.07</td>\n",
       "      <td>120.30</td>\n",
       "      <td>1032.0</td>\n",
       "      <td>0.08774</td>\n",
       "      <td>0.17100</td>\n",
       "      <td>0.18820</td>\n",
       "      <td>0.08436</td>\n",
       "      <td>0.2527</td>\n",
       "      <td>0.05972</td>\n",
       "    </tr>\n",
       "    <tr>\n",
       "      <th>158</th>\n",
       "      <td>B</td>\n",
       "      <td>12.06</td>\n",
       "      <td>12.74</td>\n",
       "      <td>76.84</td>\n",
       "      <td>448.6</td>\n",
       "      <td>0.09311</td>\n",
       "      <td>0.05241</td>\n",
       "      <td>0.01972</td>\n",
       "      <td>0.019630</td>\n",
       "      <td>0.1590</td>\n",
       "      <td>...</td>\n",
       "      <td>13.14</td>\n",
       "      <td>18.41</td>\n",
       "      <td>84.08</td>\n",
       "      <td>532.8</td>\n",
       "      <td>0.12750</td>\n",
       "      <td>0.12320</td>\n",
       "      <td>0.08636</td>\n",
       "      <td>0.07025</td>\n",
       "      <td>0.2514</td>\n",
       "      <td>0.07898</td>\n",
       "    </tr>\n",
       "    <tr>\n",
       "      <th>159</th>\n",
       "      <td>B</td>\n",
       "      <td>10.90</td>\n",
       "      <td>12.96</td>\n",
       "      <td>68.69</td>\n",
       "      <td>366.8</td>\n",
       "      <td>0.07515</td>\n",
       "      <td>0.03718</td>\n",
       "      <td>0.00309</td>\n",
       "      <td>0.006588</td>\n",
       "      <td>0.1442</td>\n",
       "      <td>...</td>\n",
       "      <td>12.36</td>\n",
       "      <td>18.20</td>\n",
       "      <td>78.07</td>\n",
       "      <td>470.0</td>\n",
       "      <td>0.11710</td>\n",
       "      <td>0.08294</td>\n",
       "      <td>0.01854</td>\n",
       "      <td>0.03953</td>\n",
       "      <td>0.2738</td>\n",
       "      <td>0.07685</td>\n",
       "    </tr>\n",
       "  </tbody>\n",
       "</table>\n",
       "<p>5 rows × 31 columns</p>\n",
       "</div>"
      ],
      "text/plain": [
       "    class      2      3       4      5        6        7        8         9  \\\n",
       "154     B  13.15  15.34   85.31  538.9  0.09384  0.08498  0.09293  0.034830   \n",
       "155     B  12.25  17.94   78.27  460.3  0.08654  0.06679  0.03885  0.023310   \n",
       "157     B  16.84  19.46  108.40  880.2  0.07445  0.07223  0.05150  0.027710   \n",
       "158     B  12.06  12.74   76.84  448.6  0.09311  0.05241  0.01972  0.019630   \n",
       "159     B  10.90  12.96   68.69  366.8  0.07515  0.03718  0.00309  0.006588   \n",
       "\n",
       "         10  ...     22     23      24      25       26       27       28  \\\n",
       "154  0.1822  ...  14.77  20.50   97.67   677.3  0.14780  0.22560  0.30090   \n",
       "155  0.1970  ...  13.59  25.22   86.60   564.2  0.12170  0.17880  0.19430   \n",
       "157  0.1844  ...  18.22  28.07  120.30  1032.0  0.08774  0.17100  0.18820   \n",
       "158  0.1590  ...  13.14  18.41   84.08   532.8  0.12750  0.12320  0.08636   \n",
       "159  0.1442  ...  12.36  18.20   78.07   470.0  0.11710  0.08294  0.01854   \n",
       "\n",
       "          29      30       31  \n",
       "154  0.09722  0.3849  0.08633  \n",
       "155  0.08211  0.3113  0.08132  \n",
       "157  0.08436  0.2527  0.05972  \n",
       "158  0.07025  0.2514  0.07898  \n",
       "159  0.03953  0.2738  0.07685  \n",
       "\n",
       "[5 rows x 31 columns]"
      ]
     },
     "execution_count": 13,
     "metadata": {},
     "output_type": "execute_result"
    }
   ],
   "source": [
    "df[df['class'] == 'B'].iloc[71:].head()"
   ]
  },
  {
   "cell_type": "code",
   "execution_count": 14,
   "metadata": {},
   "outputs": [
    {
     "data": {
      "text/html": [
       "<div>\n",
       "<style scoped>\n",
       "    .dataframe tbody tr th:only-of-type {\n",
       "        vertical-align: middle;\n",
       "    }\n",
       "\n",
       "    .dataframe tbody tr th {\n",
       "        vertical-align: top;\n",
       "    }\n",
       "\n",
       "    .dataframe thead th {\n",
       "        text-align: right;\n",
       "    }\n",
       "</style>\n",
       "<table border=\"1\" class=\"dataframe\">\n",
       "  <thead>\n",
       "    <tr style=\"text-align: right;\">\n",
       "      <th></th>\n",
       "      <th>class</th>\n",
       "      <th>2</th>\n",
       "      <th>3</th>\n",
       "      <th>4</th>\n",
       "      <th>5</th>\n",
       "      <th>6</th>\n",
       "      <th>7</th>\n",
       "      <th>8</th>\n",
       "      <th>9</th>\n",
       "      <th>10</th>\n",
       "      <th>...</th>\n",
       "      <th>22</th>\n",
       "      <th>23</th>\n",
       "      <th>24</th>\n",
       "      <th>25</th>\n",
       "      <th>26</th>\n",
       "      <th>27</th>\n",
       "      <th>28</th>\n",
       "      <th>29</th>\n",
       "      <th>30</th>\n",
       "      <th>31</th>\n",
       "    </tr>\n",
       "  </thead>\n",
       "  <tbody>\n",
       "    <tr>\n",
       "      <th>47</th>\n",
       "      <td>M</td>\n",
       "      <td>13.17</td>\n",
       "      <td>18.66</td>\n",
       "      <td>85.98</td>\n",
       "      <td>534.6</td>\n",
       "      <td>0.11580</td>\n",
       "      <td>0.12310</td>\n",
       "      <td>0.12260</td>\n",
       "      <td>0.07340</td>\n",
       "      <td>0.2128</td>\n",
       "      <td>...</td>\n",
       "      <td>15.67</td>\n",
       "      <td>27.95</td>\n",
       "      <td>102.8</td>\n",
       "      <td>759.4</td>\n",
       "      <td>0.1786</td>\n",
       "      <td>0.4166</td>\n",
       "      <td>0.5006</td>\n",
       "      <td>0.2088</td>\n",
       "      <td>0.3900</td>\n",
       "      <td>0.11790</td>\n",
       "    </tr>\n",
       "    <tr>\n",
       "      <th>53</th>\n",
       "      <td>M</td>\n",
       "      <td>18.22</td>\n",
       "      <td>18.70</td>\n",
       "      <td>120.30</td>\n",
       "      <td>1033.0</td>\n",
       "      <td>0.11480</td>\n",
       "      <td>0.14850</td>\n",
       "      <td>0.17720</td>\n",
       "      <td>0.10600</td>\n",
       "      <td>0.2092</td>\n",
       "      <td>...</td>\n",
       "      <td>20.60</td>\n",
       "      <td>24.13</td>\n",
       "      <td>135.1</td>\n",
       "      <td>1321.0</td>\n",
       "      <td>0.1280</td>\n",
       "      <td>0.2297</td>\n",
       "      <td>0.2623</td>\n",
       "      <td>0.1325</td>\n",
       "      <td>0.3021</td>\n",
       "      <td>0.07987</td>\n",
       "    </tr>\n",
       "    <tr>\n",
       "      <th>54</th>\n",
       "      <td>M</td>\n",
       "      <td>15.10</td>\n",
       "      <td>22.02</td>\n",
       "      <td>97.26</td>\n",
       "      <td>712.8</td>\n",
       "      <td>0.09056</td>\n",
       "      <td>0.07081</td>\n",
       "      <td>0.05253</td>\n",
       "      <td>0.03334</td>\n",
       "      <td>0.1616</td>\n",
       "      <td>...</td>\n",
       "      <td>18.10</td>\n",
       "      <td>31.69</td>\n",
       "      <td>117.7</td>\n",
       "      <td>1030.0</td>\n",
       "      <td>0.1389</td>\n",
       "      <td>0.2057</td>\n",
       "      <td>0.2712</td>\n",
       "      <td>0.1530</td>\n",
       "      <td>0.2675</td>\n",
       "      <td>0.07873</td>\n",
       "    </tr>\n",
       "    <tr>\n",
       "      <th>56</th>\n",
       "      <td>M</td>\n",
       "      <td>19.21</td>\n",
       "      <td>18.57</td>\n",
       "      <td>125.50</td>\n",
       "      <td>1152.0</td>\n",
       "      <td>0.10530</td>\n",
       "      <td>0.12670</td>\n",
       "      <td>0.13230</td>\n",
       "      <td>0.08994</td>\n",
       "      <td>0.1917</td>\n",
       "      <td>...</td>\n",
       "      <td>26.14</td>\n",
       "      <td>28.14</td>\n",
       "      <td>170.1</td>\n",
       "      <td>2145.0</td>\n",
       "      <td>0.1624</td>\n",
       "      <td>0.3511</td>\n",
       "      <td>0.3879</td>\n",
       "      <td>0.2091</td>\n",
       "      <td>0.3537</td>\n",
       "      <td>0.08294</td>\n",
       "    </tr>\n",
       "    <tr>\n",
       "      <th>57</th>\n",
       "      <td>M</td>\n",
       "      <td>14.71</td>\n",
       "      <td>21.59</td>\n",
       "      <td>95.55</td>\n",
       "      <td>656.9</td>\n",
       "      <td>0.11370</td>\n",
       "      <td>0.13650</td>\n",
       "      <td>0.12930</td>\n",
       "      <td>0.08123</td>\n",
       "      <td>0.2027</td>\n",
       "      <td>...</td>\n",
       "      <td>17.87</td>\n",
       "      <td>30.70</td>\n",
       "      <td>115.7</td>\n",
       "      <td>985.5</td>\n",
       "      <td>0.1368</td>\n",
       "      <td>0.4290</td>\n",
       "      <td>0.3587</td>\n",
       "      <td>0.1834</td>\n",
       "      <td>0.3698</td>\n",
       "      <td>0.10940</td>\n",
       "    </tr>\n",
       "  </tbody>\n",
       "</table>\n",
       "<p>5 rows × 31 columns</p>\n",
       "</div>"
      ],
      "text/plain": [
       "   class      2      3       4       5        6        7        8        9  \\\n",
       "47     M  13.17  18.66   85.98   534.6  0.11580  0.12310  0.12260  0.07340   \n",
       "53     M  18.22  18.70  120.30  1033.0  0.11480  0.14850  0.17720  0.10600   \n",
       "54     M  15.10  22.02   97.26   712.8  0.09056  0.07081  0.05253  0.03334   \n",
       "56     M  19.21  18.57  125.50  1152.0  0.10530  0.12670  0.13230  0.08994   \n",
       "57     M  14.71  21.59   95.55   656.9  0.11370  0.13650  0.12930  0.08123   \n",
       "\n",
       "        10  ...     22     23     24      25      26      27      28      29  \\\n",
       "47  0.2128  ...  15.67  27.95  102.8   759.4  0.1786  0.4166  0.5006  0.2088   \n",
       "53  0.2092  ...  20.60  24.13  135.1  1321.0  0.1280  0.2297  0.2623  0.1325   \n",
       "54  0.1616  ...  18.10  31.69  117.7  1030.0  0.1389  0.2057  0.2712  0.1530   \n",
       "56  0.1917  ...  26.14  28.14  170.1  2145.0  0.1624  0.3511  0.3879  0.2091   \n",
       "57  0.2027  ...  17.87  30.70  115.7   985.5  0.1368  0.4290  0.3587  0.1834   \n",
       "\n",
       "        30       31  \n",
       "47  0.3900  0.11790  \n",
       "53  0.3021  0.07987  \n",
       "54  0.2675  0.07873  \n",
       "56  0.3537  0.08294  \n",
       "57  0.3698  0.10940  \n",
       "\n",
       "[5 rows x 31 columns]"
      ]
     },
     "execution_count": 14,
     "metadata": {},
     "output_type": "execute_result"
    }
   ],
   "source": [
    "df[df['class'] == 'M'].iloc[42:].head()"
   ]
  },
  {
   "cell_type": "markdown",
   "metadata": {},
   "source": [
    "### (b) Monte-Carlo Simulation: Repeat the following procedures for supervised, un-supervised, and semi-supervised learning M = 30 times, and use randomly selected train and test data (make sure you use 20% of both the positve and negative classes as the test set). Then compare the average scores (accuracy, precision, recall, F-score, and AUC) that you obtain from each algorithm."
   ]
  },
  {
   "cell_type": "code",
   "execution_count": 15,
   "metadata": {},
   "outputs": [],
   "source": [
    "supervised_learn_dict = defaultdict(list)\n",
    "semi_supervised_learn_dict = defaultdict(list)\n",
    "un_supervised_learn_dict = defaultdict(list)\n",
    "spectral_clustering_dict = defaultdict(list)"
   ]
  },
  {
   "cell_type": "code",
   "execution_count": 57,
   "metadata": {
    "collapsed": true
   },
   "outputs": [
    {
     "name": "stdout",
     "output_type": "stream",
     "text": [
      "1\n",
      "2\n",
      "3\n",
      "4\n",
      "5\n",
      "6\n",
      "7\n",
      "8\n",
      "9\n",
      "10\n",
      "11\n",
      "12\n",
      "13\n",
      "14\n",
      "15\n",
      "16\n",
      "17\n",
      "18\n",
      "19\n",
      "20\n",
      "21\n",
      "22\n",
      "23\n",
      "24\n",
      "25\n",
      "26\n",
      "27\n",
      "28\n",
      "29\n",
      "30\n"
     ]
    }
   ],
   "source": [
    "warnings.filterwarnings('ignore')\n",
    "df[\"class\"].replace(\"B\", 1,inplace=True)\n",
    "df[\"class\"].replace(\"M\",0,inplace=True)\n",
    "X = df.iloc[:,1:]\n",
    "y = df[\"class\"]\n",
    "for _ in range(30):\n",
    "    X_train, X_test, y_train, y_test = train_test_split(df.iloc[:,1:],df[\"class\"],test_size=0.20,stratify=df[\"class\"])\n",
    "    [pred_01,acc_01,precision_01,recall_01,F_score_01, fpr_train_01, tpr_train_01, fpr_test_01, tpr_test_01, AUC_01] = supervised_learn(X_train,X_test,y_train,y_test)\n",
    "    supervised_learn_dict[\"pred\"].append(pred_01)\n",
    "    supervised_learn_dict[\"acc\"].append(acc_01)\n",
    "    supervised_learn_dict[\"precision\"].append(precision_01)\n",
    "    supervised_learn_dict[\"recall\"].append(recall_01)\n",
    "    supervised_learn_dict[\"F_score\"].append(F_score_01)\n",
    "    supervised_learn_dict[\"AUC\"].append(AUC_01)\n",
    "    [pred_02,acc_02,precision_02,recall_02,F_score_02, fpr_train_02, tpr_train_02, fpr_test_02, tpr_test_02, AUC_02] = semi_supervised_learn(X_train,X_test,y_train,y_test)\n",
    "    semi_supervised_learn_dict[\"pred\"].append(pred_02)\n",
    "    semi_supervised_learn_dict[\"acc\"].append(acc_02)\n",
    "    semi_supervised_learn_dict[\"precision\"].append(precision_02)\n",
    "    semi_supervised_learn_dict[\"recall\"].append(recall_02)\n",
    "    semi_supervised_learn_dict[\"F_score\"].append(F_score_02)\n",
    "    semi_supervised_learn_dict[\"AUC\"].append(AUC_02)\n",
    "    [pred_03,acc_03,precision_03,recall_03,F_score_03, fpr_train_03, tpr_train_03, fpr_test_03, tpr_test_03, AUC_03] = un_supervised_learn(X_train,X_test,y_train,y_test)\n",
    "    un_supervised_learn_dict[\"pred\"].append(pred_03)\n",
    "    un_supervised_learn_dict[\"acc\"].append(acc_03)\n",
    "    un_supervised_learn_dict[\"precision\"].append(precision_03)\n",
    "    un_supervised_learn_dict[\"recall\"].append(recall_03)\n",
    "    un_supervised_learn_dict[\"F_score\"].append(F_score_03)\n",
    "    un_supervised_learn_dict[\"AUC\"].append(AUC_03)\n",
    "    [pred_04,acc_04,precision_04,recall_04,F_score_04, fpr_train_04, tpr_train_04, fpr_test_04, tpr_test_04, AUC_04] = spectral_clustering(X_train,X_test,y_train,y_test)\n",
    "    spectral_clustering_dict[\"pred\"].append(pred_04)\n",
    "    spectral_clustering_dict[\"acc\"].append(acc_04)\n",
    "    spectral_clustering_dict[\"precision\"].append(precision_04)\n",
    "    spectral_clustering_dict[\"recall\"].append(recall_04)\n",
    "    spectral_clustering_dict[\"F_score\"].append(F_score_04)\n",
    "    spectral_clustering_dict[\"AUC\"].append(AUC_04)\n",
    "    print(_+1)"
   ]
  },
  {
   "cell_type": "code",
   "execution_count": 63,
   "metadata": {},
   "outputs": [],
   "source": [
    "def combine_to_dataFrame_train(tmp_dict,tmp_avg):\n",
    "    train = []\n",
    "    for var in tmp_dict[tmp_avg]:\n",
    "        train.append(var[\"train\"])\n",
    "    return train"
   ]
  },
  {
   "cell_type": "code",
   "execution_count": 64,
   "metadata": {},
   "outputs": [],
   "source": [
    "def combine_to_dataFrame_test(tmp_dict,tmp_avg):\n",
    "    test = []\n",
    "    for var in tmp_dict[tmp_avg]:\n",
    "        test.append(var[\"test\"])\n",
    "    return test"
   ]
  },
  {
   "cell_type": "markdown",
   "metadata": {},
   "source": [
    "#### Supervised learning average scores (accuracy, precision, recall, F-score, and AUC)"
   ]
  },
  {
   "cell_type": "code",
   "execution_count": 86,
   "metadata": {},
   "outputs": [],
   "source": [
    "supervised_learn_train_df = {}\n",
    "supervised_learn_train_df[\"acc\"] = combine_to_dataFrame_train(supervised_learn_dict,\"acc\")\n",
    "supervised_learn_train_df[\"precision\"] = combine_to_dataFrame_train(supervised_learn_dict,\"precision\")\n",
    "supervised_learn_train_df[\"recall\"] = combine_to_dataFrame_train(supervised_learn_dict,\"recall\")\n",
    "supervised_learn_train_df[\"F_score\"] = combine_to_dataFrame_train(supervised_learn_dict,\"F_score\")\n",
    "supervised_learn_train_df[\"AUC\"] = combine_to_dataFrame_train(supervised_learn_dict,\"AUC\")"
   ]
  },
  {
   "cell_type": "code",
   "execution_count": 87,
   "metadata": {},
   "outputs": [],
   "source": [
    "supervised_learn_test_df = {}\n",
    "supervised_learn_test_df[\"acc\"] = combine_to_dataFrame_test(supervised_learn_dict,\"acc\")\n",
    "supervised_learn_test_df[\"precision\"] = combine_to_dataFrame_test(supervised_learn_dict,\"precision\")\n",
    "supervised_learn_test_df[\"recall\"] = combine_to_dataFrame_test(supervised_learn_dict,\"recall\")\n",
    "supervised_learn_test_df[\"F_score\"] = combine_to_dataFrame_test(supervised_learn_dict,\"F_score\")\n",
    "supervised_learn_test_df[\"AUC\"] = combine_to_dataFrame_test(supervised_learn_dict,\"AUC\")"
   ]
  },
  {
   "cell_type": "code",
   "execution_count": 88,
   "metadata": {},
   "outputs": [],
   "source": [
    "real_supervised_learn_test_df = pd.DataFrame(supervised_learn_test_df).tail(30).reset_index().drop(\"index\",axis = 1)\n",
    "real_supervised_learn_train_df = pd.DataFrame(supervised_learn_train_df).tail(30).reset_index().drop(\"index\",axis = 1)"
   ]
  },
  {
   "cell_type": "code",
   "execution_count": 99,
   "metadata": {},
   "outputs": [],
   "source": [
    "mean_real_supervised_learn_train = pd.DataFrame({\"accuracy\":[real_supervised_learn_train_df[\"acc\"].mean()],\n",
    "                                                \"precision\":[real_supervised_learn_train_df[\"precision\"].mean()],\n",
    "                                                \"recall\":[real_supervised_learn_train_df[\"recall\"].mean()],\n",
    "                                                \"F_score\":[real_supervised_learn_train_df[\"F_score\"].mean()],\n",
    "                                                \"AUC\":[real_supervised_learn_train_df[\"AUC\"].mean()]})\n",
    "mean_real_supervised_learn_train.index = [\"value\"]"
   ]
  },
  {
   "cell_type": "code",
   "execution_count": 101,
   "metadata": {},
   "outputs": [],
   "source": [
    "mean_real_supervised_learn_test = pd.DataFrame({\"accuracy\":[real_supervised_learn_test_df[\"acc\"].mean()],\n",
    "                                                \"precision\":[real_supervised_learn_test_df[\"precision\"].mean()],\n",
    "                                                \"recall\":[real_supervised_learn_test_df[\"recall\"].mean()],\n",
    "                                                \"F_score\":[real_supervised_learn_test_df[\"F_score\"].mean()],\n",
    "                                                \"AUC\":[real_supervised_learn_test_df[\"AUC\"].mean()]})\n",
    "mean_real_supervised_learn_test.index = [\"value\"]"
   ]
  },
  {
   "cell_type": "code",
   "execution_count": 100,
   "metadata": {},
   "outputs": [
    {
     "data": {
      "text/html": [
       "<div>\n",
       "<style scoped>\n",
       "    .dataframe tbody tr th:only-of-type {\n",
       "        vertical-align: middle;\n",
       "    }\n",
       "\n",
       "    .dataframe tbody tr th {\n",
       "        vertical-align: top;\n",
       "    }\n",
       "\n",
       "    .dataframe thead th {\n",
       "        text-align: right;\n",
       "    }\n",
       "</style>\n",
       "<table border=\"1\" class=\"dataframe\">\n",
       "  <thead>\n",
       "    <tr style=\"text-align: right;\">\n",
       "      <th></th>\n",
       "      <th>accuracy</th>\n",
       "      <th>precision</th>\n",
       "      <th>recall</th>\n",
       "      <th>F_score</th>\n",
       "      <th>AUC</th>\n",
       "    </tr>\n",
       "  </thead>\n",
       "  <tbody>\n",
       "    <tr>\n",
       "      <th>value</th>\n",
       "      <td>0.984176</td>\n",
       "      <td>0.980325</td>\n",
       "      <td>0.994737</td>\n",
       "      <td>0.987467</td>\n",
       "      <td>0.997518</td>\n",
       "    </tr>\n",
       "  </tbody>\n",
       "</table>\n",
       "</div>"
      ],
      "text/plain": [
       "       accuracy  precision    recall   F_score       AUC\n",
       "value  0.984176   0.980325  0.994737  0.987467  0.997518"
      ]
     },
     "execution_count": 100,
     "metadata": {},
     "output_type": "execute_result"
    }
   ],
   "source": [
    "mean_real_supervised_learn_train"
   ]
  },
  {
   "cell_type": "code",
   "execution_count": 102,
   "metadata": {
    "scrolled": true
   },
   "outputs": [
    {
     "data": {
      "text/html": [
       "<div>\n",
       "<style scoped>\n",
       "    .dataframe tbody tr th:only-of-type {\n",
       "        vertical-align: middle;\n",
       "    }\n",
       "\n",
       "    .dataframe tbody tr th {\n",
       "        vertical-align: top;\n",
       "    }\n",
       "\n",
       "    .dataframe thead th {\n",
       "        text-align: right;\n",
       "    }\n",
       "</style>\n",
       "<table border=\"1\" class=\"dataframe\">\n",
       "  <thead>\n",
       "    <tr style=\"text-align: right;\">\n",
       "      <th></th>\n",
       "      <th>accuracy</th>\n",
       "      <th>precision</th>\n",
       "      <th>recall</th>\n",
       "      <th>F_score</th>\n",
       "      <th>AUC</th>\n",
       "    </tr>\n",
       "  </thead>\n",
       "  <tbody>\n",
       "    <tr>\n",
       "      <th>value</th>\n",
       "      <td>0.912573</td>\n",
       "      <td>0.987843</td>\n",
       "      <td>0.873611</td>\n",
       "      <td>0.924142</td>\n",
       "      <td>0.993463</td>\n",
       "    </tr>\n",
       "  </tbody>\n",
       "</table>\n",
       "</div>"
      ],
      "text/plain": [
       "       accuracy  precision    recall   F_score       AUC\n",
       "value  0.912573   0.987843  0.873611  0.924142  0.993463"
      ]
     },
     "execution_count": 102,
     "metadata": {},
     "output_type": "execute_result"
    }
   ],
   "source": [
    "mean_real_supervised_learn_test"
   ]
  },
  {
   "cell_type": "markdown",
   "metadata": {},
   "source": [
    "#### semi_supervised_learning average scores (accuracy, precision, recall, F-score, and AUC)"
   ]
  },
  {
   "cell_type": "code",
   "execution_count": 128,
   "metadata": {},
   "outputs": [],
   "source": [
    "def combine_to_dataFrame_train(tmp_dict,tmp_avg):\n",
    "    train = []\n",
    "    for var in tmp_dict[tmp_avg]:\n",
    "        train += var[\"train\"]\n",
    "    return train\n",
    "\n",
    "def combine_to_dataFrame_test(tmp_dict,tmp_avg):\n",
    "    test = []\n",
    "    for var in tmp_dict[tmp_avg]:\n",
    "        test += var[\"test\"]\n",
    "    return test"
   ]
  },
  {
   "cell_type": "code",
   "execution_count": 129,
   "metadata": {},
   "outputs": [],
   "source": [
    "semi_supervised_learn_train_df = {}\n",
    "semi_supervised_learn_train_df[\"acc\"] = combine_to_dataFrame_train(semi_supervised_learn_dict,\"acc\")\n",
    "semi_supervised_learn_train_df[\"precision\"] = combine_to_dataFrame_train(semi_supervised_learn_dict,\"precision\")\n",
    "semi_supervised_learn_train_df[\"recall\"] = combine_to_dataFrame_train(semi_supervised_learn_dict,\"recall\")\n",
    "semi_supervised_learn_train_df[\"F_score\"] = combine_to_dataFrame_train(semi_supervised_learn_dict,\"F_score\")\n",
    "semi_supervised_learn_train_df[\"AUC\"] = combine_to_dataFrame_train(semi_supervised_learn_dict,\"AUC\")"
   ]
  },
  {
   "cell_type": "code",
   "execution_count": 130,
   "metadata": {},
   "outputs": [],
   "source": [
    "semi_supervised_learn_test_df = {}\n",
    "semi_supervised_learn_test_df[\"acc\"] = combine_to_dataFrame_test(semi_supervised_learn_dict,\"acc\")\n",
    "semi_supervised_learn_test_df[\"precision\"] = combine_to_dataFrame_test(semi_supervised_learn_dict,\"precision\")\n",
    "semi_supervised_learn_test_df[\"recall\"] = combine_to_dataFrame_test(semi_supervised_learn_dict,\"recall\")\n",
    "semi_supervised_learn_test_df[\"F_score\"] = combine_to_dataFrame_test(semi_supervised_learn_dict,\"F_score\")\n",
    "semi_supervised_learn_test_df[\"AUC\"] = combine_to_dataFrame_test(semi_supervised_learn_dict,\"AUC\")"
   ]
  },
  {
   "cell_type": "code",
   "execution_count": 131,
   "metadata": {},
   "outputs": [],
   "source": [
    "real_semi_supervised_learn_test_df = pd.DataFrame(semi_supervised_learn_test_df).tail(30).reset_index().drop(\"index\",axis = 1)\n",
    "real_semi_supervised_learn_train_df = pd.DataFrame(semi_supervised_learn_train_df).tail(30).reset_index().drop(\"index\",axis = 1)"
   ]
  },
  {
   "cell_type": "code",
   "execution_count": 132,
   "metadata": {},
   "outputs": [],
   "source": [
    "mean_real_semi_supervised_learn_train = pd.DataFrame({\"accuracy\":[real_semi_supervised_learn_train_df[\"acc\"].mean()],\n",
    "                                                \"precision\":[real_semi_supervised_learn_train_df[\"precision\"].mean()],\n",
    "                                                \"recall\":[real_semi_supervised_learn_train_df[\"recall\"].mean()],\n",
    "                                                \"F_score\":[real_semi_supervised_learn_train_df[\"F_score\"].mean()],\n",
    "                                                \"AUC\":[real_semi_supervised_learn_train_df[\"AUC\"].mean()]})\n",
    "mean_real_semi_supervised_learn_train.index = [\"value\"]"
   ]
  },
  {
   "cell_type": "code",
   "execution_count": 133,
   "metadata": {},
   "outputs": [],
   "source": [
    "mean_real_semi_supervised_learn_test = pd.DataFrame({\"accuracy\":[real_semi_supervised_learn_test_df[\"acc\"].mean()],\n",
    "                                                \"precision\":[real_semi_supervised_learn_test_df[\"precision\"].mean()],\n",
    "                                                \"recall\":[real_semi_supervised_learn_test_df[\"recall\"].mean()],\n",
    "                                                \"F_score\":[real_semi_supervised_learn_test_df[\"F_score\"].mean()],\n",
    "                                                \"AUC\":[real_semi_supervised_learn_test_df[\"AUC\"].mean()]})\n",
    "mean_real_semi_supervised_learn_test.index = [\"value\"]"
   ]
  },
  {
   "cell_type": "code",
   "execution_count": 134,
   "metadata": {},
   "outputs": [
    {
     "data": {
      "text/html": [
       "<div>\n",
       "<style scoped>\n",
       "    .dataframe tbody tr th:only-of-type {\n",
       "        vertical-align: middle;\n",
       "    }\n",
       "\n",
       "    .dataframe tbody tr th {\n",
       "        vertical-align: top;\n",
       "    }\n",
       "\n",
       "    .dataframe thead th {\n",
       "        text-align: right;\n",
       "    }\n",
       "</style>\n",
       "<table border=\"1\" class=\"dataframe\">\n",
       "  <thead>\n",
       "    <tr style=\"text-align: right;\">\n",
       "      <th></th>\n",
       "      <th>accuracy</th>\n",
       "      <th>precision</th>\n",
       "      <th>recall</th>\n",
       "      <th>F_score</th>\n",
       "      <th>AUC</th>\n",
       "    </tr>\n",
       "  </thead>\n",
       "  <tbody>\n",
       "    <tr>\n",
       "      <th>value</th>\n",
       "      <td>0.975018</td>\n",
       "      <td>0.969208</td>\n",
       "      <td>0.991813</td>\n",
       "      <td>0.980315</td>\n",
       "      <td>0.993668</td>\n",
       "    </tr>\n",
       "  </tbody>\n",
       "</table>\n",
       "</div>"
      ],
      "text/plain": [
       "       accuracy  precision    recall   F_score       AUC\n",
       "value  0.975018   0.969208  0.991813  0.980315  0.993668"
      ]
     },
     "execution_count": 134,
     "metadata": {},
     "output_type": "execute_result"
    }
   ],
   "source": [
    "mean_real_semi_supervised_learn_train"
   ]
  },
  {
   "cell_type": "code",
   "execution_count": 135,
   "metadata": {
    "scrolled": false
   },
   "outputs": [
    {
     "data": {
      "text/html": [
       "<div>\n",
       "<style scoped>\n",
       "    .dataframe tbody tr th:only-of-type {\n",
       "        vertical-align: middle;\n",
       "    }\n",
       "\n",
       "    .dataframe tbody tr th {\n",
       "        vertical-align: top;\n",
       "    }\n",
       "\n",
       "    .dataframe thead th {\n",
       "        text-align: right;\n",
       "    }\n",
       "</style>\n",
       "<table border=\"1\" class=\"dataframe\">\n",
       "  <thead>\n",
       "    <tr style=\"text-align: right;\">\n",
       "      <th></th>\n",
       "      <th>accuracy</th>\n",
       "      <th>precision</th>\n",
       "      <th>recall</th>\n",
       "      <th>F_score</th>\n",
       "      <th>AUC</th>\n",
       "    </tr>\n",
       "  </thead>\n",
       "  <tbody>\n",
       "    <tr>\n",
       "      <th>value</th>\n",
       "      <td>0.907018</td>\n",
       "      <td>0.983052</td>\n",
       "      <td>0.869444</td>\n",
       "      <td>0.918094</td>\n",
       "      <td>0.99019</td>\n",
       "    </tr>\n",
       "  </tbody>\n",
       "</table>\n",
       "</div>"
      ],
      "text/plain": [
       "       accuracy  precision    recall   F_score      AUC\n",
       "value  0.907018   0.983052  0.869444  0.918094  0.99019"
      ]
     },
     "execution_count": 135,
     "metadata": {},
     "output_type": "execute_result"
    }
   ],
   "source": [
    "mean_real_semi_supervised_learn_test"
   ]
  },
  {
   "cell_type": "markdown",
   "metadata": {},
   "source": [
    "#### un_supervised_learning average scores (accuracy, precision, recall, F-score, and AUC)"
   ]
  },
  {
   "cell_type": "code",
   "execution_count": 137,
   "metadata": {},
   "outputs": [],
   "source": [
    "def combine_to_dataFrame_train(tmp_dict,tmp_avg):\n",
    "    train = []\n",
    "    for var in tmp_dict[tmp_avg]:\n",
    "        train += var[\"train\"]\n",
    "    return train\n",
    "\n",
    "def combine_to_dataFrame_test(tmp_dict,tmp_avg):\n",
    "    test = []\n",
    "    for var in tmp_dict[tmp_avg]:\n",
    "        test += var[\"test\"]\n",
    "    return test"
   ]
  },
  {
   "cell_type": "code",
   "execution_count": 138,
   "metadata": {},
   "outputs": [],
   "source": [
    "un_supervised_learn_train_df = {}\n",
    "un_supervised_learn_train_df[\"acc\"] = combine_to_dataFrame_train(un_supervised_learn_dict,\"acc\")\n",
    "un_supervised_learn_train_df[\"precision\"] = combine_to_dataFrame_train(un_supervised_learn_dict,\"precision\")\n",
    "un_supervised_learn_train_df[\"recall\"] = combine_to_dataFrame_train(un_supervised_learn_dict,\"recall\")\n",
    "un_supervised_learn_train_df[\"F_score\"] = combine_to_dataFrame_train(un_supervised_learn_dict,\"F_score\")\n",
    "un_supervised_learn_train_df[\"AUC\"] = combine_to_dataFrame_train(un_supervised_learn_dict,\"AUC\")"
   ]
  },
  {
   "cell_type": "code",
   "execution_count": 139,
   "metadata": {},
   "outputs": [],
   "source": [
    "un_supervised_learn_test_df = {}\n",
    "un_supervised_learn_test_df[\"acc\"] = combine_to_dataFrame_test(un_supervised_learn_dict,\"acc\")\n",
    "un_supervised_learn_test_df[\"precision\"] = combine_to_dataFrame_test(un_supervised_learn_dict,\"precision\")\n",
    "un_supervised_learn_test_df[\"recall\"] = combine_to_dataFrame_test(un_supervised_learn_dict,\"recall\")\n",
    "un_supervised_learn_test_df[\"F_score\"] = combine_to_dataFrame_test(un_supervised_learn_dict,\"F_score\")\n",
    "un_supervised_learn_test_df[\"AUC\"] = combine_to_dataFrame_test(un_supervised_learn_dict,\"AUC\")"
   ]
  },
  {
   "cell_type": "code",
   "execution_count": 140,
   "metadata": {},
   "outputs": [],
   "source": [
    "real_un_supervised_learn_test_df = pd.DataFrame(un_supervised_learn_test_df).tail(30).reset_index().drop(\"index\",axis = 1)\n",
    "real_un_supervised_learn_train_df = pd.DataFrame(un_supervised_learn_train_df).tail(30).reset_index().drop(\"index\",axis = 1)"
   ]
  },
  {
   "cell_type": "code",
   "execution_count": 141,
   "metadata": {},
   "outputs": [],
   "source": [
    "mean_real_un_supervised_learn_train = pd.DataFrame({\"accuracy\":[real_un_supervised_learn_train_df[\"acc\"].mean()],\n",
    "                                                \"precision\":[real_un_supervised_learn_train_df[\"precision\"].mean()],\n",
    "                                                \"recall\":[real_un_supervised_learn_train_df[\"recall\"].mean()],\n",
    "                                                \"F_score\":[real_un_supervised_learn_train_df[\"F_score\"].mean()],\n",
    "                                                \"AUC\":[real_un_supervised_learn_train_df[\"AUC\"].mean()]})\n",
    "mean_real_un_supervised_learn_train.index = [\"value\"]"
   ]
  },
  {
   "cell_type": "code",
   "execution_count": 142,
   "metadata": {},
   "outputs": [],
   "source": [
    "mean_real_un_supervised_learn_test = pd.DataFrame({\"accuracy\":[real_un_supervised_learn_test_df[\"acc\"].mean()],\n",
    "                                                \"precision\":[real_un_supervised_learn_test_df[\"precision\"].mean()],\n",
    "                                                \"recall\":[real_un_supervised_learn_test_df[\"recall\"].mean()],\n",
    "                                                \"F_score\":[real_un_supervised_learn_test_df[\"F_score\"].mean()],\n",
    "                                                \"AUC\":[real_un_supervised_learn_test_df[\"AUC\"].mean()]})\n",
    "mean_real_un_supervised_learn_test.index = [\"value\"]"
   ]
  },
  {
   "cell_type": "code",
   "execution_count": 143,
   "metadata": {},
   "outputs": [
    {
     "data": {
      "text/html": [
       "<div>\n",
       "<style scoped>\n",
       "    .dataframe tbody tr th:only-of-type {\n",
       "        vertical-align: middle;\n",
       "    }\n",
       "\n",
       "    .dataframe tbody tr th {\n",
       "        vertical-align: top;\n",
       "    }\n",
       "\n",
       "    .dataframe thead th {\n",
       "        text-align: right;\n",
       "    }\n",
       "</style>\n",
       "<table border=\"1\" class=\"dataframe\">\n",
       "  <thead>\n",
       "    <tr style=\"text-align: right;\">\n",
       "      <th></th>\n",
       "      <th>accuracy</th>\n",
       "      <th>precision</th>\n",
       "      <th>recall</th>\n",
       "      <th>F_score</th>\n",
       "      <th>AUC</th>\n",
       "    </tr>\n",
       "  </thead>\n",
       "  <tbody>\n",
       "    <tr>\n",
       "      <th>value</th>\n",
       "      <td>0.594212</td>\n",
       "      <td>0.56913</td>\n",
       "      <td>0.86655</td>\n",
       "      <td>0.685025</td>\n",
       "      <td>0.810485</td>\n",
       "    </tr>\n",
       "  </tbody>\n",
       "</table>\n",
       "</div>"
      ],
      "text/plain": [
       "       accuracy  precision   recall   F_score       AUC\n",
       "value  0.594212    0.56913  0.86655  0.685025  0.810485"
      ]
     },
     "execution_count": 143,
     "metadata": {},
     "output_type": "execute_result"
    }
   ],
   "source": [
    "mean_real_un_supervised_learn_train"
   ]
  },
  {
   "cell_type": "code",
   "execution_count": 144,
   "metadata": {
    "scrolled": false
   },
   "outputs": [
    {
     "data": {
      "text/html": [
       "<div>\n",
       "<style scoped>\n",
       "    .dataframe tbody tr th:only-of-type {\n",
       "        vertical-align: middle;\n",
       "    }\n",
       "\n",
       "    .dataframe tbody tr th {\n",
       "        vertical-align: top;\n",
       "    }\n",
       "\n",
       "    .dataframe thead th {\n",
       "        text-align: right;\n",
       "    }\n",
       "</style>\n",
       "<table border=\"1\" class=\"dataframe\">\n",
       "  <thead>\n",
       "    <tr style=\"text-align: right;\">\n",
       "      <th></th>\n",
       "      <th>accuracy</th>\n",
       "      <th>precision</th>\n",
       "      <th>recall</th>\n",
       "      <th>F_score</th>\n",
       "      <th>AUC</th>\n",
       "    </tr>\n",
       "  </thead>\n",
       "  <tbody>\n",
       "    <tr>\n",
       "      <th>value</th>\n",
       "      <td>0.594737</td>\n",
       "      <td>0.571218</td>\n",
       "      <td>0.86713</td>\n",
       "      <td>0.686989</td>\n",
       "      <td>0.806504</td>\n",
       "    </tr>\n",
       "  </tbody>\n",
       "</table>\n",
       "</div>"
      ],
      "text/plain": [
       "       accuracy  precision   recall   F_score       AUC\n",
       "value  0.594737   0.571218  0.86713  0.686989  0.806504"
      ]
     },
     "execution_count": 144,
     "metadata": {},
     "output_type": "execute_result"
    }
   ],
   "source": [
    "mean_real_un_supervised_learn_test"
   ]
  },
  {
   "cell_type": "markdown",
   "metadata": {},
   "source": [
    "#### spectral_clustering average scores (accuracy, precision, recall, F-score, and AUC)"
   ]
  },
  {
   "cell_type": "code",
   "execution_count": 145,
   "metadata": {},
   "outputs": [],
   "source": [
    "def combine_to_dataFrame_train(tmp_dict,tmp_avg):\n",
    "    train = []\n",
    "    for var in tmp_dict[tmp_avg]:\n",
    "        train += var[\"train\"]\n",
    "    return train\n",
    "\n",
    "def combine_to_dataFrame_test(tmp_dict,tmp_avg):\n",
    "    test = []\n",
    "    for var in tmp_dict[tmp_avg]:\n",
    "        test += var[\"test\"]\n",
    "    return test"
   ]
  },
  {
   "cell_type": "code",
   "execution_count": 146,
   "metadata": {},
   "outputs": [],
   "source": [
    "spectral_clustering_train_df = {}\n",
    "spectral_clustering_train_df[\"acc\"] = combine_to_dataFrame_train(spectral_clustering_dict,\"acc\")\n",
    "spectral_clustering_train_df[\"precision\"] = combine_to_dataFrame_train(spectral_clustering_dict,\"precision\")\n",
    "spectral_clustering_train_df[\"recall\"] = combine_to_dataFrame_train(spectral_clustering_dict,\"recall\")\n",
    "spectral_clustering_train_df[\"F_score\"] = combine_to_dataFrame_train(spectral_clustering_dict,\"F_score\")\n",
    "spectral_clustering_train_df[\"AUC\"] = combine_to_dataFrame_train(spectral_clustering_dict,\"AUC\")"
   ]
  },
  {
   "cell_type": "code",
   "execution_count": 147,
   "metadata": {},
   "outputs": [],
   "source": [
    "spectral_clustering_test_df = {}\n",
    "spectral_clustering_test_df[\"acc\"] = combine_to_dataFrame_test(spectral_clustering_dict,\"acc\")\n",
    "spectral_clustering_test_df[\"precision\"] = combine_to_dataFrame_test(spectral_clustering_dict,\"precision\")\n",
    "spectral_clustering_test_df[\"recall\"] = combine_to_dataFrame_test(spectral_clustering_dict,\"recall\")\n",
    "spectral_clustering_test_df[\"F_score\"] = combine_to_dataFrame_test(spectral_clustering_dict,\"F_score\")\n",
    "spectral_clustering_test_df[\"AUC\"] = combine_to_dataFrame_test(spectral_clustering_dict,\"AUC\")"
   ]
  },
  {
   "cell_type": "code",
   "execution_count": 148,
   "metadata": {},
   "outputs": [],
   "source": [
    "real_spectral_clustering_test_df = pd.DataFrame(spectral_clustering_test_df).tail(30).reset_index().drop(\"index\",axis = 1)\n",
    "real_spectral_clustering_train_df = pd.DataFrame(spectral_clustering_train_df).tail(30).reset_index().drop(\"index\",axis = 1)"
   ]
  },
  {
   "cell_type": "code",
   "execution_count": 149,
   "metadata": {},
   "outputs": [],
   "source": [
    "mean_real_spectral_clustering_train = pd.DataFrame({\"accuracy\":[real_spectral_clustering_train_df[\"acc\"].mean()],\n",
    "                                                \"precision\":[real_spectral_clustering_train_df[\"precision\"].mean()],\n",
    "                                                \"recall\":[real_spectral_clustering_train_df[\"recall\"].mean()],\n",
    "                                                \"F_score\":[real_spectral_clustering_train_df[\"F_score\"].mean()],\n",
    "                                                \"AUC\":[real_spectral_clustering_train_df[\"AUC\"].mean()]})\n",
    "mean_real_spectral_clustering_train.index = [\"value\"]"
   ]
  },
  {
   "cell_type": "code",
   "execution_count": 150,
   "metadata": {},
   "outputs": [],
   "source": [
    "mean_real_spectral_clustering_test = pd.DataFrame({\"accuracy\":[real_spectral_clustering_test_df[\"acc\"].mean()],\n",
    "                                                \"precision\":[real_spectral_clustering_test_df[\"precision\"].mean()],\n",
    "                                                \"recall\":[real_spectral_clustering_test_df[\"recall\"].mean()],\n",
    "                                                \"F_score\":[real_spectral_clustering_test_df[\"F_score\"].mean()],\n",
    "                                                \"AUC\":[real_spectral_clustering_test_df[\"AUC\"].mean()]})\n",
    "mean_real_spectral_clustering_test.index = [\"value\"]"
   ]
  },
  {
   "cell_type": "code",
   "execution_count": 151,
   "metadata": {},
   "outputs": [
    {
     "data": {
      "text/html": [
       "<div>\n",
       "<style scoped>\n",
       "    .dataframe tbody tr th:only-of-type {\n",
       "        vertical-align: middle;\n",
       "    }\n",
       "\n",
       "    .dataframe tbody tr th {\n",
       "        vertical-align: top;\n",
       "    }\n",
       "\n",
       "    .dataframe thead th {\n",
       "        text-align: right;\n",
       "    }\n",
       "</style>\n",
       "<table border=\"1\" class=\"dataframe\">\n",
       "  <thead>\n",
       "    <tr style=\"text-align: right;\">\n",
       "      <th></th>\n",
       "      <th>accuracy</th>\n",
       "      <th>precision</th>\n",
       "      <th>recall</th>\n",
       "      <th>F_score</th>\n",
       "      <th>AUC</th>\n",
       "    </tr>\n",
       "  </thead>\n",
       "  <tbody>\n",
       "    <tr>\n",
       "      <th>value</th>\n",
       "      <td>0.857436</td>\n",
       "      <td>0.818424</td>\n",
       "      <td>0.993567</td>\n",
       "      <td>0.897388</td>\n",
       "      <td>0.167218</td>\n",
       "    </tr>\n",
       "  </tbody>\n",
       "</table>\n",
       "</div>"
      ],
      "text/plain": [
       "       accuracy  precision    recall   F_score       AUC\n",
       "value  0.857436   0.818424  0.993567  0.897388  0.167218"
      ]
     },
     "execution_count": 151,
     "metadata": {},
     "output_type": "execute_result"
    }
   ],
   "source": [
    "mean_real_spectral_clustering_train"
   ]
  },
  {
   "cell_type": "code",
   "execution_count": 152,
   "metadata": {
    "scrolled": false
   },
   "outputs": [
    {
     "data": {
      "text/html": [
       "<div>\n",
       "<style scoped>\n",
       "    .dataframe tbody tr th:only-of-type {\n",
       "        vertical-align: middle;\n",
       "    }\n",
       "\n",
       "    .dataframe tbody tr th {\n",
       "        vertical-align: top;\n",
       "    }\n",
       "\n",
       "    .dataframe thead th {\n",
       "        text-align: right;\n",
       "    }\n",
       "</style>\n",
       "<table border=\"1\" class=\"dataframe\">\n",
       "  <thead>\n",
       "    <tr style=\"text-align: right;\">\n",
       "      <th></th>\n",
       "      <th>accuracy</th>\n",
       "      <th>precision</th>\n",
       "      <th>recall</th>\n",
       "      <th>F_score</th>\n",
       "      <th>AUC</th>\n",
       "    </tr>\n",
       "  </thead>\n",
       "  <tbody>\n",
       "    <tr>\n",
       "      <th>value</th>\n",
       "      <td>0.822807</td>\n",
       "      <td>0.790417</td>\n",
       "      <td>0.992593</td>\n",
       "      <td>0.878133</td>\n",
       "      <td>0.161596</td>\n",
       "    </tr>\n",
       "  </tbody>\n",
       "</table>\n",
       "</div>"
      ],
      "text/plain": [
       "       accuracy  precision    recall   F_score       AUC\n",
       "value  0.822807   0.790417  0.992593  0.878133  0.161596"
      ]
     },
     "execution_count": 152,
     "metadata": {},
     "output_type": "execute_result"
    }
   ],
   "source": [
    "mean_real_spectral_clustering_test"
   ]
  },
  {
   "cell_type": "markdown",
   "metadata": {},
   "source": [
    "### i. Supervised Learning: Train an L1-penalized SVM to classify the data. Use 5 fold cross validation to choose the penalty parameter. Use normalized data. Report the average accuracy, precision, recall, F-score, and AUC, for both training and test sets over your M runs. Plot the ROC and report the confusion matrix for training and testing in one of the runs."
   ]
  },
  {
   "cell_type": "markdown",
   "metadata": {},
   "source": [
    "##### Assume B is a positive class and M is a negative class"
   ]
  },
  {
   "cell_type": "code",
   "execution_count": 53,
   "metadata": {},
   "outputs": [],
   "source": [
    "def supervised_learn(X_train,X_test,y_train,y_test):\n",
    "    norm_X_train = MinMaxScaler().fit_transform(X_train)\n",
    "    norm_X_test = MinMaxScaler().fit_transform(X_test)\n",
    "    l1_model_SVC = LinearSVC(loss='l2', penalty='l1', dual=False)\n",
    "    penalty_SVC = []\n",
    "    for i in range(-3,7):\n",
    "        penalty_SVC.append(10**i)\n",
    "    l1_param_grid = {'C': penalty_SVC}\n",
    "    l1_gridCV = GridSearchCV(l1_model_SVC,scoring='accuracy',param_grid=l1_param_grid,refit=True,cv=5)\n",
    "    l1_gridCV.fit(norm_X_train,y_train)\n",
    "    l1_gridCV.best_params_\n",
    "    pred_01 = {\"train\":l1_gridCV.predict(norm_X_train),\"test\":l1_gridCV.predict(norm_X_test)}\n",
    "    acc_01 = {\"train\": accuracy_score(y_train,pred_01[\"train\"]),\"test\": accuracy_score(y_test,pred_01[\"test\"])}\n",
    "    precision_01 = {\"train\":precision_score(y_train,pred_01[\"train\"]),\"test\":precision_score(y_test,pred_01[\"test\"])}\n",
    "    recall_01 = {\"train\":recall_score(y_train,pred_01[\"train\"]),\"test\":recall_score(y_test,pred_01[\"test\"])}\n",
    "    F_score_01 = {\"train\":f1_score(y_train,pred_01[\"train\"]),\"test\":f1_score(y_test,pred_01[\"test\"])}\n",
    "    fpr_train_01, tpr_train_01, thresholds_train_01 = roc_curve(y_train,l1_gridCV.decision_function(norm_X_train))\n",
    "    fpr_test_01, tpr_test_01, thresholds_test_01 = roc_curve(y_test,l1_gridCV.decision_function(norm_X_test))\n",
    "    AUC_01 = {\"train\":auc(fpr_train_01, tpr_train_01),\"test\":auc(fpr_test_01, tpr_test_01)}\n",
    "    return pred_01,acc_01,precision_01,recall_01,F_score_01, fpr_train_01, tpr_train_01, fpr_test_01, tpr_test_01, AUC_01"
   ]
  },
  {
   "cell_type": "markdown",
   "metadata": {},
   "source": [
    "#### ROC curve for train data"
   ]
  },
  {
   "cell_type": "code",
   "execution_count": 153,
   "metadata": {
    "scrolled": true
   },
   "outputs": [
    {
     "data": {
      "image/png": "[encoded data removed]",
      "text/plain": [
       "<Figure size 432x288 with 1 Axes>"
      ]
     },
     "metadata": {
      "needs_background": "light"
     },
     "output_type": "display_data"
    }
   ],
   "source": [
    "plt.plot([0, 1], [0, 1], linestyle='--')\n",
    "plt.plot(fpr_train_01, tpr_train_01, marker='.')\n",
    "plt.show()"
   ]
  },
  {
   "cell_type": "markdown",
   "metadata": {},
   "source": [
    "#### ROC curve for test data"
   ]
  },
  {
   "cell_type": "code",
   "execution_count": 154,
   "metadata": {
    "scrolled": true
   },
   "outputs": [
    {
     "data": {
      "image/png": "[encoded data removed]",
      "text/plain": [
       "<Figure size 432x288 with 1 Axes>"
      ]
     },
     "metadata": {
      "needs_background": "light"
     },
     "output_type": "display_data"
    }
   ],
   "source": [
    "plt.plot([0, 1], [0, 1], linestyle='--')\n",
    "plt.plot(fpr_test_01, tpr_test_01, marker='.')\n",
    "plt.show()"
   ]
  },
  {
   "cell_type": "markdown",
   "metadata": {},
   "source": [
    "#### Confusion matrix for train data"
   ]
  },
  {
   "cell_type": "code",
   "execution_count": 400,
   "metadata": {},
   "outputs": [
    {
     "data": {
      "text/plain": [
       "array([[163,   7],\n",
       "       [  2, 283]])"
      ]
     },
     "execution_count": 400,
     "metadata": {},
     "output_type": "execute_result"
    }
   ],
   "source": [
    "confusion_matrix(y_train,supervised_learn_dict[\"pred\"][-1][\"train\"]))"
   ]
  },
  {
   "cell_type": "markdown",
   "metadata": {},
   "source": [
    "##### True Positive = 283, True Negative 163, False Postive = 7, False Negative = 2"
   ]
  },
  {
   "cell_type": "markdown",
   "metadata": {},
   "source": [
    "#### Confusion matrix for test data"
   ]
  },
  {
   "cell_type": "code",
   "execution_count": 230,
   "metadata": {},
   "outputs": [
    {
     "data": {
      "text/plain": [
       "array([[42,  0],\n",
       "       [ 5, 67]])"
      ]
     },
     "execution_count": 230,
     "metadata": {},
     "output_type": "execute_result"
    }
   ],
   "source": [
    "confusion_matrix(y_test,supervised_learn_dict[\"pred\"][-1][\"test\"]))"
   ]
  },
  {
   "cell_type": "markdown",
   "metadata": {},
   "source": [
    "##### True Positive = 67, True Negative 42, False Postive = 0, False Negative = 5"
   ]
  },
  {
   "cell_type": "markdown",
   "metadata": {},
   "source": [
    "### ii. Semi-Supervised Learning/ Self-training: select 50% of the positive class along with 50% of the negative class in the training set as labeled data and the rest as unlabelled data. You can select them randomly.\n",
    "### A. Train an L1-penalized SVM to classify the labeled data. Use normalized data. Choose the penalty parameter using 5 fold cross validation."
   ]
  },
  {
   "cell_type": "markdown",
   "metadata": {},
   "source": [
    "### B. Find the unlabeled data point that is the farthest to the decision boundary of the SVM. Let the SVM label it (ignore its true label), and add it to the labeled data, and retrain the SVM. Continue this process until all unlabeled data are used. Test the final SVM on the test data and the average accuracy, precision, recall, F-score, and AUC, for both training and test sets over your M runs. Plot the ROC and report the confusion matrix for training and testing in one of the runs."
   ]
  },
  {
   "cell_type": "code",
   "execution_count": 54,
   "metadata": {},
   "outputs": [],
   "source": [
    "def semi_supervised_learn(X_train,X_test,y_train,y_test):\n",
    "    norm_X_train = MinMaxScaler().fit_transform(X_train)\n",
    "    norm_X_test = MinMaxScaler().fit_transform(X_test)\n",
    "    X_label_train, X_unlabel_train, y_label_train, y_unlabel_train = train_test_split(norm_X_train,y_train,test_size=0.50,stratify=y_train)\n",
    "    l1_model_SVC = LinearSVC(loss='l2', penalty='l1', dual=False)\n",
    "    penalty_SVC = []\n",
    "    for i in range(-3,7):\n",
    "        penalty_SVC.append(10**i)\n",
    "    l1_param_grid = {'C': penalty_SVC}\n",
    "    l1_gridCV = GridSearchCV(l1_model_SVC,scoring='accuracy',param_grid=l1_param_grid,refit=True,cv=5)\n",
    "    l1_gridCV.fit(X_label_train,y_label_train)\n",
    "    l1_model_SVC.C = l1_gridCV.best_params_['C']\n",
    "    for _ in range(X_unlabel_train.shape[0]):\n",
    "        y = l1_gridCV.decision_function(X_unlabel_train)\n",
    "        dist = y\n",
    "        dist = np.fabs(dist)\n",
    "        max_index = list(dist).index(max(dist))\n",
    "        y_label_train = np.array(y_label_train)\n",
    "        y_unlabel_train = np.array(y_unlabel_train)\n",
    "        tmp_pred = l1_gridCV.predict([X_unlabel_train[max_index]])\n",
    "        y_label_train = np.append(y_label_train, tmp_pred, axis=0)\n",
    "        X_label_train = np.append(X_label_train, [X_unlabel_train[max_index]], axis=0)\n",
    "        X_unlabel_train = np.delete(X_unlabel_train,[max_index],axis=0)\n",
    "        y_unlabel_train = np.delete(y_unlabel_train,[max_index],axis=0)\n",
    "        l1_gridCV.fit(X_label_train,y_label_train)\n",
    "    pred_02 = defaultdict(list)\n",
    "    acc_02 = defaultdict(list)\n",
    "    precision_02 = defaultdict(list)\n",
    "    recall_02 = defaultdict(list)\n",
    "    F_score_02 = defaultdict(list)\n",
    "    AUC_02 = defaultdict(list)\n",
    "    pred_02 = defaultdict(list)\n",
    "    acc_02 = defaultdict(list)\n",
    "    precision_02 = defaultdict(list)\n",
    "    recall_02 = defaultdict(list)\n",
    "    F_score_02 = defaultdict(list)\n",
    "    AUC_02 = defaultdict(list)\n",
    "    pred_02_train = l1_gridCV.predict(norm_X_train)\n",
    "    pred_02_test = l1_gridCV.predict(norm_X_test)\n",
    "    pred_02[\"train\"].append(pred_02_train)\n",
    "    pred_02[\"test\"].append(pred_02_test)\n",
    "    acc_02[\"train\"].append(accuracy_score(y_train,pred_02_train))\n",
    "    acc_02[\"test\"].append(accuracy_score(y_test,pred_02_test))\n",
    "    precision_02[\"train\"].append(precision_score(y_train,pred_02_train))\n",
    "    precision_02[\"test\"].append(precision_score(y_test,pred_02_test))\n",
    "    recall_02[\"train\"].append(recall_score(y_train,pred_02_train))\n",
    "    recall_02[\"test\"].append(recall_score(y_test,pred_02_test))\n",
    "    F_score_02[\"train\"].append(f1_score(y_train,pred_02_train))\n",
    "    F_score_02[\"test\"].append(f1_score(y_test,pred_02_test))\n",
    "    fpr_train_02, tpr_train_02, thresholds_train_02 = roc_curve(y_train,l1_gridCV.decision_function(norm_X_train))\n",
    "    fpr_test_02, tpr_test_02, thresholds_test_02 = roc_curve(y_test,l1_gridCV.decision_function(norm_X_test))\n",
    "    AUC_02[\"train\"].append(auc(fpr_train_02, tpr_train_02))\n",
    "    AUC_02[\"test\"].append(auc(fpr_test_02, tpr_test_02))\n",
    "    return pred_02,acc_02,precision_02,recall_02,F_score_02, fpr_train_02, tpr_train_02, fpr_test_02, tpr_test_02, AUC_02"
   ]
  },
  {
   "cell_type": "markdown",
   "metadata": {},
   "source": [
    "#### ROC curve for train data"
   ]
  },
  {
   "cell_type": "code",
   "execution_count": 1034,
   "metadata": {
    "scrolled": true
   },
   "outputs": [
    {
     "data": {
      "image/png": "[encoded data removed]",
      "text/plain": [
       "<Figure size 432x288 with 1 Axes>"
      ]
     },
     "metadata": {
      "needs_background": "light"
     },
     "output_type": "display_data"
    }
   ],
   "source": [
    "plt.plot([0, 1], [0, 1], linestyle='--')\n",
    "plt.plot(fpr_train_02, tpr_train_02, marker='.')\n",
    "plt.show()"
   ]
  },
  {
   "cell_type": "markdown",
   "metadata": {},
   "source": [
    "#### ROC curve for test data"
   ]
  },
  {
   "cell_type": "code",
   "execution_count": 1035,
   "metadata": {
    "scrolled": false
   },
   "outputs": [
    {
     "data": {
      "image/png": "[encoded data removed]",
      "text/plain": [
       "<Figure size 432x288 with 1 Axes>"
      ]
     },
     "metadata": {
      "needs_background": "light"
     },
     "output_type": "display_data"
    }
   ],
   "source": [
    "plt.plot([0, 1], [0, 1], linestyle='--')\n",
    "plt.plot(fpr_test_02, tpr_test_02, marker='.')\n",
    "plt.show()"
   ]
  },
  {
   "cell_type": "markdown",
   "metadata": {},
   "source": [
    "#### Confusion matrix for train data"
   ]
  },
  {
   "cell_type": "code",
   "execution_count": 1036,
   "metadata": {},
   "outputs": [
    {
     "data": {
      "text/plain": [
       "array([[166,   4],\n",
       "       [ 14, 271]])"
      ]
     },
     "execution_count": 1036,
     "metadata": {},
     "output_type": "execute_result"
    }
   ],
   "source": [
    "confusion_matrix(y_train,semi_supervised_learn_dict[\"pred\"][-1][\"train\"][0]))"
   ]
  },
  {
   "cell_type": "markdown",
   "metadata": {},
   "source": [
    "##### True Positive = 271, True Negative 166, False Postive = 4, False Negative = 14"
   ]
  },
  {
   "cell_type": "markdown",
   "metadata": {},
   "source": [
    "#### Confusion matrix for test data"
   ]
  },
  {
   "cell_type": "code",
   "execution_count": 1037,
   "metadata": {},
   "outputs": [
    {
     "data": {
      "text/plain": [
       "array([[42,  0],\n",
       "       [ 6, 66]])"
      ]
     },
     "execution_count": 1037,
     "metadata": {},
     "output_type": "execute_result"
    }
   ],
   "source": [
    "confusion_matrix(y_test,semi_supervised_learn_dict[\"pred\"][-1][\"test\"][0]))"
   ]
  },
  {
   "cell_type": "markdown",
   "metadata": {},
   "source": [
    "##### True Positive = 66 True Negative 42, False Positive = 0, False Negative = 6"
   ]
  },
  {
   "cell_type": "markdown",
   "metadata": {},
   "source": [
    "### iii. Unsupervised Learning: Run k-means algorithm on the whole training set. Ignore the labels of the data, and assume k = 2."
   ]
  },
  {
   "cell_type": "markdown",
   "metadata": {},
   "source": [
    "### A. Run the k-means algorithm multiple times. Make sure that you initialize the algorithm randomly. How do you make sure that the algorithm was not trapped in a local minimum?"
   ]
  },
  {
   "cell_type": "markdown",
   "metadata": {},
   "source": [
    "#### random the data before initializing the centroids."
   ]
  },
  {
   "cell_type": "markdown",
   "metadata": {},
   "source": [
    "### B. Compute the centers of the two clusters and find the closest 30 data points to each center. Read the true labels of those 30 data points and take a majority poll within them. The majority poll becomes the label predicted by k-means for the members of each cluster. Then compare the labels provided by k-means with the true labels of the training data and report the average accuracy, precision, recall, F-score, and AUC over M runs, and ROC and the confusion matrix for one of the runs."
   ]
  },
  {
   "cell_type": "code",
   "execution_count": 55,
   "metadata": {},
   "outputs": [],
   "source": [
    "def un_supervised_learn(X_train,X_test,y_train,y_test):\n",
    "    k_mean_cluster = KMeans(n_clusters=2,init=\"random\",n_init=10)\n",
    "    k_mean_cluster.fit(X_train)\n",
    "    min_30 = defaultdict(list)\n",
    "    for cluster in range(2):\n",
    "        for i in range(X_train.shape[0]):\n",
    "            dist_cl = ((np.array(X_train.iloc[i]) - k_mean_cluster.cluster_centers_[cluster])**2).sum()\n",
    "            min_30[cluster].append(dist_cl)\n",
    "    min_30_1 = pd.DataFrame(min_30[0])\n",
    "    min_30_1.columns = [\"Distance\"]\n",
    "    min_30_1_indexes = min_30_1.sort_values(\"Distance\").head(30).index\n",
    "    min_30_1 = min_30_1.loc[min_30_1_indexes]\n",
    "    min_30_2 = pd.DataFrame(min_30[1])\n",
    "    min_30_2.columns = [\"Distance\"]\n",
    "    min_30_2_indexes = min_30_2.sort_values(\"Distance\").head(30).index\n",
    "    min_30_2 = min_30_2.loc[min_30_2_indexes]\n",
    "    tmp_01 = pd.DataFrame()\n",
    "    tmp_01[\"class\"] = y_train \n",
    "    tmp_01[\"k_means_label\"] = k_mean_cluster.labels_\n",
    "    tmp_01.loc[tmp_01[\"k_means_label\"] == 0, \"pred_label\" ] = y[min_30_1_indexes].value_counts().index[0]\n",
    "    tmp_01.loc[tmp_01[\"k_means_label\"] == 1, \"pred_label\" ] = y[min_30_2_indexes].value_counts().index[0]\n",
    "    pred_03 = defaultdict(list)\n",
    "    acc_03 = defaultdict(list)\n",
    "    precision_03 = defaultdict(list)\n",
    "    recall_03 = defaultdict(list)\n",
    "    F_score_03 = defaultdict(list)\n",
    "    AUC_03 = defaultdict(list)\n",
    "    pred_03_train = tmp_01[\"pred_label\"]\n",
    "    pred_03[\"train\"].append(pred_03_train)\n",
    "    y_score_k_means_train = []\n",
    "    for i in range(X_train.shape[0]):\n",
    "        dist_cl_0 = ((np.array(X_train.iloc[i]) - k_mean_cluster.cluster_centers_[0]) ** 2).sum()\n",
    "        dist_cl_1 = ((np.array(X_train.iloc[i]) - k_mean_cluster.cluster_centers_[1]) ** 2).sum()\n",
    "        if dist_cl_0 < dist_cl_1:\n",
    "            y_score_k_means_train.append(1 - (dist_cl_0/(dist_cl_0+dist_cl_1)))\n",
    "        else:\n",
    "            y_score_k_means_train.append(1 - (dist_cl_1/(dist_cl_0+dist_cl_1)))\n",
    "    acc_03[\"train\"].append(accuracy_score(y_train,pred_03_train))\n",
    "    precision_03[\"train\"].append(precision_score(y_train,pred_03_train))\n",
    "    recall_03[\"train\"].append(recall_score(y_train,pred_03_train))\n",
    "    F_score_03[\"train\"].append(f1_score(y_train,pred_03_train))\n",
    "    fpr_train_03, tpr_train_03, thresholds_train_03 = roc_curve(y_train,y_score_k_means_train)\n",
    "    AUC_03[\"train\"].append(auc(fpr_train_03, tpr_train_03))\n",
    "    y_test_pred = []\n",
    "    y_score_k_means_test = []\n",
    "    min_dist_test = defaultdict(list)\n",
    "    for i in range(X_test.shape[0]):\n",
    "        dist_cl_0 = ((np.array(X_test.iloc[i]) - k_mean_cluster.cluster_centers_[0]) ** 2).sum()\n",
    "        dist_cl_1 = ((np.array(X_test.iloc[i]) - k_mean_cluster.cluster_centers_[1]) ** 2).sum()\n",
    "        min_dist_test[0].append(dist_cl_0)\n",
    "        min_dist_test[1].append(dist_cl_1)\n",
    "        if dist_cl_0 < dist_cl_1:\n",
    "            y_test_pred.append(y[min_30_1_indexes].value_counts().index[0])\n",
    "            y_score_k_means_test.append(1 - (dist_cl_0/(dist_cl_0+dist_cl_1)))\n",
    "        else:\n",
    "            y_test_pred.append(y[min_30_2_indexes].value_counts().index[0])\n",
    "            y_score_k_means_test.append(1 - (dist_cl_1/(dist_cl_0+dist_cl_1)))\n",
    "    pred_03_test = y_test_pred\n",
    "    pred_03[\"test\"].append(pred_03_test)\n",
    "    acc_03[\"test\"].append(accuracy_score(y_test,pred_03_test))\n",
    "    precision_03[\"test\"].append(precision_score(y_test,pred_03_test))\n",
    "    recall_03[\"test\"].append(recall_score(y_test,pred_03_test))\n",
    "    F_score_03[\"test\"].append(f1_score(y_test,pred_03_test))\n",
    "    fpr_test_03, tpr_test_03, thresholds_test_03 = roc_curve(y_test,y_score_k_means_test)\n",
    "    AUC_03[\"test\"].append(auc(fpr_test_03, tpr_test_03))\n",
    "    return pred_03,acc_03,precision_03,recall_03,F_score_03, fpr_train_03, tpr_train_03, fpr_test_03, tpr_test_03, AUC_03 "
   ]
  },
  {
   "cell_type": "markdown",
   "metadata": {},
   "source": [
    "#### ROC curve for train data"
   ]
  },
  {
   "cell_type": "code",
   "execution_count": 741,
   "metadata": {},
   "outputs": [
    {
     "data": {
      "image/png": "[encoded data removed]",
      "text/plain": [
       "<Figure size 432x288 with 1 Axes>"
      ]
     },
     "metadata": {
      "needs_background": "light"
     },
     "output_type": "display_data"
    }
   ],
   "source": [
    "plt.plot([0, 1], [0, 1], linestyle='--')\n",
    "plt.plot(fpr_train_03, tpr_train_03, marker='.')\n",
    "plt.show()"
   ]
  },
  {
   "cell_type": "markdown",
   "metadata": {},
   "source": [
    "#### Confusion matrix for train data"
   ]
  },
  {
   "cell_type": "code",
   "execution_count": 726,
   "metadata": {
    "scrolled": false
   },
   "outputs": [
    {
     "data": {
      "text/plain": [
       "array([[  0, 170],\n",
       "       [  0, 285]])"
      ]
     },
     "execution_count": 726,
     "metadata": {},
     "output_type": "execute_result"
    }
   ],
   "source": [
    "confusion_matrix(y_train,un_supervised_learn_dict[\"pred\"][-1][\"train\"][0]))"
   ]
  },
  {
   "cell_type": "markdown",
   "metadata": {},
   "source": [
    "#### True Positive is 285, True Negative is 0, False Positive is 170, False Negative is 0"
   ]
  },
  {
   "cell_type": "markdown",
   "metadata": {},
   "source": [
    "### C. Classify test data based on their proximity to the centers of the clusters. Report the average accuracy, precision, recall, F-score, and AUC over M runs, and ROC and the confusion matrix for one of the runs for the test data."
   ]
  },
  {
   "cell_type": "markdown",
   "metadata": {},
   "source": [
    "#### ROC curve for test data"
   ]
  },
  {
   "cell_type": "code",
   "execution_count": 736,
   "metadata": {},
   "outputs": [
    {
     "data": {
      "image/png": "[encoded data removed]",
      "text/plain": [
       "<Figure size 432x288 with 1 Axes>"
      ]
     },
     "metadata": {
      "needs_background": "light"
     },
     "output_type": "display_data"
    }
   ],
   "source": [
    "plt.plot([0, 1], [0, 1], linestyle='--')\n",
    "plt.plot(fpr_test_03, tpr_test_03, marker='.')\n",
    "plt.show()"
   ]
  },
  {
   "cell_type": "markdown",
   "metadata": {},
   "source": [
    "#### Confusion matrix for test data"
   ]
  },
  {
   "cell_type": "code",
   "execution_count": 737,
   "metadata": {
    "scrolled": false
   },
   "outputs": [
    {
     "data": {
      "text/plain": [
       "array([[ 0, 42],\n",
       "       [ 0, 72]])"
      ]
     },
     "execution_count": 737,
     "metadata": {},
     "output_type": "execute_result"
    }
   ],
   "source": [
    "confusion_matrix(y_test,un_supervised_learn_dict[\"pred\"][-1][\"test\"][0]))"
   ]
  },
  {
   "cell_type": "markdown",
   "metadata": {},
   "source": [
    "#### True Positive is 72, True Negative is 0, False Positive is 42, False Negative is 0"
   ]
  },
  {
   "cell_type": "markdown",
   "metadata": {},
   "source": [
    "### iv. Spectral Clustering: Repeat 1(b)iii using spectral clustering, which is clustering based on kernels. Research what spectral clustering is. Use RBF kernel with gamma=1 or find a gamma for which the two clusteres have the same balance as the one in original data set (if the positive class has p and the negative class has n samples, the two clusters must have p and n members). Do not label data based on their proximity to cluster center, because spectral clustering may give you non-convex clusters . Instead, use fit − predict method.\n"
   ]
  },
  {
   "cell_type": "code",
   "execution_count": 56,
   "metadata": {},
   "outputs": [],
   "source": [
    "def spectral_clustering(X_train,X_test,y_train,y_test):\n",
    "    norm_X_train = MinMaxScaler().fit_transform(X_train)\n",
    "    spectral_cluster = SpectralClustering(n_clusters=2, eigen_tol=1e-9 )\n",
    "    \n",
    "    pred_spectral_X = spectral_cluster.fit_predict(norm_X_train)\n",
    "    total_dist = 0\n",
    "    for row in spectral_cluster.affinity_matrix_:\n",
    "        total_dist += sum(row)\n",
    "    dist_row_01 = []\n",
    "    for row in spectral_cluster.affinity_matrix_:\n",
    "        dist_row_01.append(1 - (sum(row)/total_dist))\n",
    "    tmp_train_04 = pd.DataFrame()\n",
    "    tmp_train_04[\"class\"] = y_train \n",
    "    tmp_train_04[\"spectral_cl_label\"] = spectral_cluster.labels_\n",
    "    for i in range(2):\n",
    "        if len(tmp_train_04[tmp_train_04[\"spectral_cl_label\"] == i][\"class\"].value_counts()) != 0:\n",
    "            new_label = tmp_train_04[tmp_train_04[\"spectral_cl_label\"] == i][\"class\"].value_counts().index[0]\n",
    "            tmp_train_04.loc[tmp_train_04[\"spectral_cl_label\"] == i, \"pred_label\" ] = new_label\n",
    "    pred_04 = defaultdict(list)\n",
    "    acc_04 = defaultdict(list)\n",
    "    precision_04 = defaultdict(list)\n",
    "    recall_04 = defaultdict(list)\n",
    "    F_score_04 = defaultdict(list)\n",
    "    AUC_04 = defaultdict(list)\n",
    "    pred_04_train = tmp_train_04[\"pred_label\"]\n",
    "    pred_04[\"train\"].append(pred_04_train)\n",
    "    acc_04[\"train\"].append(accuracy_score(y_train,pred_04_train))\n",
    "    precision_04[\"train\"].append(precision_score(y_train,pred_04_train))\n",
    "    recall_04[\"train\"].append(recall_score(y_train,pred_04_train))\n",
    "    F_score_04[\"train\"].append(f1_score(y_train,pred_04_train))\n",
    "    fpr_train_04, tpr_train_04, thresholds_train_04 = roc_curve(y_train,dist_row_01)\n",
    "    AUC_04[\"train\"].append(auc(fpr_train_04, tpr_train_04))\n",
    "    norm_X_test = MinMaxScaler().fit_transform(X_test)\n",
    "    pred_spectral_X_test = spectral_cluster.fit_predict(norm_X_test)\n",
    "    tmp_test_04 = pd.DataFrame()\n",
    "    tmp_test_04[\"class\"] = y_test \n",
    "    tmp_test_04[\"spectral_cl_label\"] = pred_spectral_X_test\n",
    "    for i in range(2):\n",
    "        if len(tmp_test_04[tmp_test_04[\"spectral_cl_label\"] == i][\"class\"].value_counts()) != 0:\n",
    "            new_label = tmp_test_04[tmp_test_04[\"spectral_cl_label\"] == i][\"class\"].value_counts().index[0]\n",
    "            tmp_test_04.loc[tmp_test_04[\"spectral_cl_label\"] == i, \"pred_label\" ] = new_label\n",
    "    pred_04_test = tmp_test_04[\"pred_label\"]    \n",
    "    pred_04[\"test\"].append(pred_04_test)\n",
    "    acc_04[\"test\"].append(accuracy_score(y_test,pred_04_test))\n",
    "    precision_04[\"test\"].append(precision_score(y_test,pred_04_test))\n",
    "    recall_04[\"test\"].append(recall_score(y_test,pred_04_test))\n",
    "    F_score_04[\"test\"].append(f1_score(y_test,pred_04_test))\n",
    "    total_dist = 0\n",
    "    for row in spectral_cluster.affinity_matrix_:\n",
    "        total_dist += sum(row)\n",
    "    dist_row_02 = []\n",
    "    for row in spectral_cluster.affinity_matrix_:\n",
    "        dist_row_02.append(1 - (sum(row)/total_dist))\n",
    "    fpr_test_04, tpr_test_04, thresholds_test_04 = roc_curve(y_test, np.array(dist_row_02))\n",
    "    AUC_04[\"test\"].append(auc(fpr_test_04, tpr_test_04))\n",
    "    return pred_04,acc_04,precision_04,recall_04,F_score_04, fpr_train_04, tpr_train_04, fpr_test_04, tpr_test_04, AUC_04 "
   ]
  },
  {
   "cell_type": "markdown",
   "metadata": {},
   "source": [
    "#### ROC curve for train data"
   ]
  },
  {
   "cell_type": "code",
   "execution_count": 1259,
   "metadata": {
    "scrolled": true
   },
   "outputs": [
    {
     "data": {
      "image/png": "[encoded data removed]",
      "text/plain": [
       "<Figure size 432x288 with 1 Axes>"
      ]
     },
     "metadata": {
      "needs_background": "light"
     },
     "output_type": "display_data"
    }
   ],
   "source": [
    "plt.plot([0, 1], [0, 1], linestyle='--')\n",
    "plt.plot(fpr_train_04, tpr_train_04, marker='.')\n",
    "plt.show()"
   ]
  },
  {
   "cell_type": "markdown",
   "metadata": {},
   "source": [
    "#### Confusion matrix for train data"
   ]
  },
  {
   "cell_type": "code",
   "execution_count": 1257,
   "metadata": {},
   "outputs": [
    {
     "data": {
      "text/plain": [
       "array([[  0, 170],\n",
       "       [  0, 285]])"
      ]
     },
     "execution_count": 1257,
     "metadata": {},
     "output_type": "execute_result"
    }
   ],
   "source": [
    "confusion_matrix(y_train,spectral_clustering_dict[\"pred\"][-1][\"train\"][0]))"
   ]
  },
  {
   "cell_type": "markdown",
   "metadata": {},
   "source": [
    "#### True Positive is 285, True Negative is 0, False Positive is 170, False Negative is 0"
   ]
  },
  {
   "cell_type": "markdown",
   "metadata": {},
   "source": [
    "#### ROC curve for test data"
   ]
  },
  {
   "cell_type": "code",
   "execution_count": 1266,
   "metadata": {},
   "outputs": [
    {
     "data": {
      "image/png": "[encoded data removed]",
      "text/plain": [
       "<Figure size 432x288 with 1 Axes>"
      ]
     },
     "metadata": {
      "needs_background": "light"
     },
     "output_type": "display_data"
    }
   ],
   "source": [
    "plt.plot([0, 1], [0, 1], linestyle='--')\n",
    "plt.plot(fpr_test_04, tpr_test_04, marker='.')\n",
    "plt.show()"
   ]
  },
  {
   "cell_type": "markdown",
   "metadata": {},
   "source": [
    "#### Confusion matrix for test data"
   ]
  },
  {
   "cell_type": "code",
   "execution_count": 1268,
   "metadata": {},
   "outputs": [
    {
     "data": {
      "text/plain": [
       "array([[ 2, 40],\n",
       "       [ 0, 72]])"
      ]
     },
     "execution_count": 1268,
     "metadata": {},
     "output_type": "execute_result"
    }
   ],
   "source": [
    "confusion_matrix(y_test,semi_supervised_learn_dict[\"pred\"][-1][\"test\"][0]))"
   ]
  },
  {
   "cell_type": "markdown",
   "metadata": {},
   "source": [
    "#### True Positive is 72, True Negative is 2, False Positive is 40, False Negative is 0"
   ]
  },
  {
   "cell_type": "markdown",
   "metadata": {},
   "source": [
    "### v. One can expect that supervised learning on the full data set works better than semi-supervised learning with half of the data set labeled.One can expect that unsupervised learning underperforms in such situations. Compare the results you obtained by those methods."
   ]
  },
  {
   "cell_type": "markdown",
   "metadata": {},
   "source": [
    "#### supervised_learn train and test data"
   ]
  },
  {
   "cell_type": "code",
   "execution_count": 169,
   "metadata": {},
   "outputs": [
    {
     "data": {
      "text/html": [
       "<div>\n",
       "<style scoped>\n",
       "    .dataframe tbody tr th:only-of-type {\n",
       "        vertical-align: middle;\n",
       "    }\n",
       "\n",
       "    .dataframe tbody tr th {\n",
       "        vertical-align: top;\n",
       "    }\n",
       "\n",
       "    .dataframe thead th {\n",
       "        text-align: right;\n",
       "    }\n",
       "</style>\n",
       "<table border=\"1\" class=\"dataframe\">\n",
       "  <thead>\n",
       "    <tr style=\"text-align: right;\">\n",
       "      <th></th>\n",
       "      <th>acc</th>\n",
       "      <th>precision</th>\n",
       "      <th>recall</th>\n",
       "      <th>F_score</th>\n",
       "      <th>AUC</th>\n",
       "    </tr>\n",
       "  </thead>\n",
       "  <tbody>\n",
       "    <tr>\n",
       "      <th>0</th>\n",
       "      <td>0.991209</td>\n",
       "      <td>0.986159</td>\n",
       "      <td>1.000000</td>\n",
       "      <td>0.993031</td>\n",
       "      <td>0.999133</td>\n",
       "    </tr>\n",
       "    <tr>\n",
       "      <th>1</th>\n",
       "      <td>0.993407</td>\n",
       "      <td>0.989583</td>\n",
       "      <td>1.000000</td>\n",
       "      <td>0.994764</td>\n",
       "      <td>0.998204</td>\n",
       "    </tr>\n",
       "    <tr>\n",
       "      <th>2</th>\n",
       "      <td>0.982418</td>\n",
       "      <td>0.982578</td>\n",
       "      <td>0.989474</td>\n",
       "      <td>0.986014</td>\n",
       "      <td>0.997296</td>\n",
       "    </tr>\n",
       "    <tr>\n",
       "      <th>3</th>\n",
       "      <td>0.980220</td>\n",
       "      <td>0.982517</td>\n",
       "      <td>0.985965</td>\n",
       "      <td>0.984238</td>\n",
       "      <td>0.997131</td>\n",
       "    </tr>\n",
       "    <tr>\n",
       "      <th>4</th>\n",
       "      <td>0.986813</td>\n",
       "      <td>0.986063</td>\n",
       "      <td>0.992982</td>\n",
       "      <td>0.989510</td>\n",
       "      <td>0.999030</td>\n",
       "    </tr>\n",
       "  </tbody>\n",
       "</table>\n",
       "</div>"
      ],
      "text/plain": [
       "        acc  precision    recall   F_score       AUC\n",
       "0  0.991209   0.986159  1.000000  0.993031  0.999133\n",
       "1  0.993407   0.989583  1.000000  0.994764  0.998204\n",
       "2  0.982418   0.982578  0.989474  0.986014  0.997296\n",
       "3  0.980220   0.982517  0.985965  0.984238  0.997131\n",
       "4  0.986813   0.986063  0.992982  0.989510  0.999030"
      ]
     },
     "execution_count": 169,
     "metadata": {},
     "output_type": "execute_result"
    }
   ],
   "source": [
    "real_supervised_learn_train_df.head()"
   ]
  },
  {
   "cell_type": "code",
   "execution_count": 170,
   "metadata": {
    "scrolled": true
   },
   "outputs": [
    {
     "data": {
      "text/html": [
       "<div>\n",
       "<style scoped>\n",
       "    .dataframe tbody tr th:only-of-type {\n",
       "        vertical-align: middle;\n",
       "    }\n",
       "\n",
       "    .dataframe tbody tr th {\n",
       "        vertical-align: top;\n",
       "    }\n",
       "\n",
       "    .dataframe thead th {\n",
       "        text-align: right;\n",
       "    }\n",
       "</style>\n",
       "<table border=\"1\" class=\"dataframe\">\n",
       "  <thead>\n",
       "    <tr style=\"text-align: right;\">\n",
       "      <th></th>\n",
       "      <th>acc</th>\n",
       "      <th>precision</th>\n",
       "      <th>recall</th>\n",
       "      <th>F_score</th>\n",
       "      <th>AUC</th>\n",
       "    </tr>\n",
       "  </thead>\n",
       "  <tbody>\n",
       "    <tr>\n",
       "      <th>0</th>\n",
       "      <td>0.877193</td>\n",
       "      <td>1.000000</td>\n",
       "      <td>0.805556</td>\n",
       "      <td>0.892308</td>\n",
       "      <td>0.982143</td>\n",
       "    </tr>\n",
       "    <tr>\n",
       "      <th>1</th>\n",
       "      <td>0.894737</td>\n",
       "      <td>1.000000</td>\n",
       "      <td>0.833333</td>\n",
       "      <td>0.909091</td>\n",
       "      <td>0.997024</td>\n",
       "    </tr>\n",
       "    <tr>\n",
       "      <th>2</th>\n",
       "      <td>0.850877</td>\n",
       "      <td>1.000000</td>\n",
       "      <td>0.763889</td>\n",
       "      <td>0.866142</td>\n",
       "      <td>0.993717</td>\n",
       "    </tr>\n",
       "    <tr>\n",
       "      <th>3</th>\n",
       "      <td>0.885965</td>\n",
       "      <td>1.000000</td>\n",
       "      <td>0.819444</td>\n",
       "      <td>0.900763</td>\n",
       "      <td>0.990741</td>\n",
       "    </tr>\n",
       "    <tr>\n",
       "      <th>4</th>\n",
       "      <td>0.956140</td>\n",
       "      <td>0.935065</td>\n",
       "      <td>1.000000</td>\n",
       "      <td>0.966443</td>\n",
       "      <td>0.983796</td>\n",
       "    </tr>\n",
       "  </tbody>\n",
       "</table>\n",
       "</div>"
      ],
      "text/plain": [
       "        acc  precision    recall   F_score       AUC\n",
       "0  0.877193   1.000000  0.805556  0.892308  0.982143\n",
       "1  0.894737   1.000000  0.833333  0.909091  0.997024\n",
       "2  0.850877   1.000000  0.763889  0.866142  0.993717\n",
       "3  0.885965   1.000000  0.819444  0.900763  0.990741\n",
       "4  0.956140   0.935065  1.000000  0.966443  0.983796"
      ]
     },
     "execution_count": 170,
     "metadata": {},
     "output_type": "execute_result"
    }
   ],
   "source": [
    "real_supervised_learn_test_df.head()"
   ]
  },
  {
   "cell_type": "markdown",
   "metadata": {},
   "source": [
    "#### semi_supervised_learn train and test data"
   ]
  },
  {
   "cell_type": "code",
   "execution_count": 171,
   "metadata": {},
   "outputs": [
    {
     "data": {
      "text/html": [
       "<div>\n",
       "<style scoped>\n",
       "    .dataframe tbody tr th:only-of-type {\n",
       "        vertical-align: middle;\n",
       "    }\n",
       "\n",
       "    .dataframe tbody tr th {\n",
       "        vertical-align: top;\n",
       "    }\n",
       "\n",
       "    .dataframe thead th {\n",
       "        text-align: right;\n",
       "    }\n",
       "</style>\n",
       "<table border=\"1\" class=\"dataframe\">\n",
       "  <thead>\n",
       "    <tr style=\"text-align: right;\">\n",
       "      <th></th>\n",
       "      <th>acc</th>\n",
       "      <th>precision</th>\n",
       "      <th>recall</th>\n",
       "      <th>F_score</th>\n",
       "      <th>AUC</th>\n",
       "    </tr>\n",
       "  </thead>\n",
       "  <tbody>\n",
       "    <tr>\n",
       "      <th>0</th>\n",
       "      <td>0.973626</td>\n",
       "      <td>0.959596</td>\n",
       "      <td>1.000000</td>\n",
       "      <td>0.979381</td>\n",
       "      <td>0.996347</td>\n",
       "    </tr>\n",
       "    <tr>\n",
       "      <th>1</th>\n",
       "      <td>0.978022</td>\n",
       "      <td>0.975779</td>\n",
       "      <td>0.989474</td>\n",
       "      <td>0.982578</td>\n",
       "      <td>0.995913</td>\n",
       "    </tr>\n",
       "    <tr>\n",
       "      <th>2</th>\n",
       "      <td>0.975824</td>\n",
       "      <td>0.969178</td>\n",
       "      <td>0.992982</td>\n",
       "      <td>0.980936</td>\n",
       "      <td>0.992012</td>\n",
       "    </tr>\n",
       "    <tr>\n",
       "      <th>3</th>\n",
       "      <td>0.980220</td>\n",
       "      <td>0.975862</td>\n",
       "      <td>0.992982</td>\n",
       "      <td>0.984348</td>\n",
       "      <td>0.990795</td>\n",
       "    </tr>\n",
       "    <tr>\n",
       "      <th>4</th>\n",
       "      <td>0.986813</td>\n",
       "      <td>0.982699</td>\n",
       "      <td>0.996491</td>\n",
       "      <td>0.989547</td>\n",
       "      <td>0.998576</td>\n",
       "    </tr>\n",
       "  </tbody>\n",
       "</table>\n",
       "</div>"
      ],
      "text/plain": [
       "        acc  precision    recall   F_score       AUC\n",
       "0  0.973626   0.959596  1.000000  0.979381  0.996347\n",
       "1  0.978022   0.975779  0.989474  0.982578  0.995913\n",
       "2  0.975824   0.969178  0.992982  0.980936  0.992012\n",
       "3  0.980220   0.975862  0.992982  0.984348  0.990795\n",
       "4  0.986813   0.982699  0.996491  0.989547  0.998576"
      ]
     },
     "execution_count": 171,
     "metadata": {},
     "output_type": "execute_result"
    }
   ],
   "source": [
    "real_semi_supervised_learn_train_df.head()"
   ]
  },
  {
   "cell_type": "code",
   "execution_count": 172,
   "metadata": {
    "scrolled": false
   },
   "outputs": [
    {
     "data": {
      "text/html": [
       "<div>\n",
       "<style scoped>\n",
       "    .dataframe tbody tr th:only-of-type {\n",
       "        vertical-align: middle;\n",
       "    }\n",
       "\n",
       "    .dataframe tbody tr th {\n",
       "        vertical-align: top;\n",
       "    }\n",
       "\n",
       "    .dataframe thead th {\n",
       "        text-align: right;\n",
       "    }\n",
       "</style>\n",
       "<table border=\"1\" class=\"dataframe\">\n",
       "  <thead>\n",
       "    <tr style=\"text-align: right;\">\n",
       "      <th></th>\n",
       "      <th>acc</th>\n",
       "      <th>precision</th>\n",
       "      <th>recall</th>\n",
       "      <th>F_score</th>\n",
       "      <th>AUC</th>\n",
       "    </tr>\n",
       "  </thead>\n",
       "  <tbody>\n",
       "    <tr>\n",
       "      <th>0</th>\n",
       "      <td>0.938596</td>\n",
       "      <td>0.971014</td>\n",
       "      <td>0.930556</td>\n",
       "      <td>0.950355</td>\n",
       "      <td>0.989749</td>\n",
       "    </tr>\n",
       "    <tr>\n",
       "      <th>1</th>\n",
       "      <td>0.929825</td>\n",
       "      <td>0.970588</td>\n",
       "      <td>0.916667</td>\n",
       "      <td>0.942857</td>\n",
       "      <td>0.989749</td>\n",
       "    </tr>\n",
       "    <tr>\n",
       "      <th>2</th>\n",
       "      <td>0.719298</td>\n",
       "      <td>0.976190</td>\n",
       "      <td>0.569444</td>\n",
       "      <td>0.719298</td>\n",
       "      <td>0.966601</td>\n",
       "    </tr>\n",
       "    <tr>\n",
       "      <th>3</th>\n",
       "      <td>0.833333</td>\n",
       "      <td>1.000000</td>\n",
       "      <td>0.736111</td>\n",
       "      <td>0.848000</td>\n",
       "      <td>0.984127</td>\n",
       "    </tr>\n",
       "    <tr>\n",
       "      <th>4</th>\n",
       "      <td>0.964912</td>\n",
       "      <td>0.947368</td>\n",
       "      <td>1.000000</td>\n",
       "      <td>0.972973</td>\n",
       "      <td>0.980820</td>\n",
       "    </tr>\n",
       "  </tbody>\n",
       "</table>\n",
       "</div>"
      ],
      "text/plain": [
       "        acc  precision    recall   F_score       AUC\n",
       "0  0.938596   0.971014  0.930556  0.950355  0.989749\n",
       "1  0.929825   0.970588  0.916667  0.942857  0.989749\n",
       "2  0.719298   0.976190  0.569444  0.719298  0.966601\n",
       "3  0.833333   1.000000  0.736111  0.848000  0.984127\n",
       "4  0.964912   0.947368  1.000000  0.972973  0.980820"
      ]
     },
     "execution_count": 172,
     "metadata": {},
     "output_type": "execute_result"
    }
   ],
   "source": [
    "real_semi_supervised_learn_test_df.head()"
   ]
  },
  {
   "cell_type": "markdown",
   "metadata": {},
   "source": [
    "#### un_supervised_learn train and test data"
   ]
  },
  {
   "cell_type": "code",
   "execution_count": 173,
   "metadata": {},
   "outputs": [
    {
     "data": {
      "text/html": [
       "<div>\n",
       "<style scoped>\n",
       "    .dataframe tbody tr th:only-of-type {\n",
       "        vertical-align: middle;\n",
       "    }\n",
       "\n",
       "    .dataframe tbody tr th {\n",
       "        vertical-align: top;\n",
       "    }\n",
       "\n",
       "    .dataframe thead th {\n",
       "        text-align: right;\n",
       "    }\n",
       "</style>\n",
       "<table border=\"1\" class=\"dataframe\">\n",
       "  <thead>\n",
       "    <tr style=\"text-align: right;\">\n",
       "      <th></th>\n",
       "      <th>acc</th>\n",
       "      <th>precision</th>\n",
       "      <th>recall</th>\n",
       "      <th>F_score</th>\n",
       "      <th>AUC</th>\n",
       "    </tr>\n",
       "  </thead>\n",
       "  <tbody>\n",
       "    <tr>\n",
       "      <th>0</th>\n",
       "      <td>0.626374</td>\n",
       "      <td>0.626374</td>\n",
       "      <td>1.000000</td>\n",
       "      <td>0.770270</td>\n",
       "      <td>0.813127</td>\n",
       "    </tr>\n",
       "    <tr>\n",
       "      <th>1</th>\n",
       "      <td>0.147253</td>\n",
       "      <td>0.009524</td>\n",
       "      <td>0.003509</td>\n",
       "      <td>0.005128</td>\n",
       "      <td>0.808793</td>\n",
       "    </tr>\n",
       "    <tr>\n",
       "      <th>2</th>\n",
       "      <td>0.626374</td>\n",
       "      <td>0.626374</td>\n",
       "      <td>1.000000</td>\n",
       "      <td>0.770270</td>\n",
       "      <td>0.814262</td>\n",
       "    </tr>\n",
       "    <tr>\n",
       "      <th>3</th>\n",
       "      <td>0.167033</td>\n",
       "      <td>0.000000</td>\n",
       "      <td>0.000000</td>\n",
       "      <td>0.000000</td>\n",
       "      <td>0.809928</td>\n",
       "    </tr>\n",
       "    <tr>\n",
       "      <th>4</th>\n",
       "      <td>0.626374</td>\n",
       "      <td>0.626374</td>\n",
       "      <td>1.000000</td>\n",
       "      <td>0.770270</td>\n",
       "      <td>0.809370</td>\n",
       "    </tr>\n",
       "  </tbody>\n",
       "</table>\n",
       "</div>"
      ],
      "text/plain": [
       "        acc  precision    recall   F_score       AUC\n",
       "0  0.626374   0.626374  1.000000  0.770270  0.813127\n",
       "1  0.147253   0.009524  0.003509  0.005128  0.808793\n",
       "2  0.626374   0.626374  1.000000  0.770270  0.814262\n",
       "3  0.167033   0.000000  0.000000  0.000000  0.809928\n",
       "4  0.626374   0.626374  1.000000  0.770270  0.809370"
      ]
     },
     "execution_count": 173,
     "metadata": {},
     "output_type": "execute_result"
    }
   ],
   "source": [
    "real_un_supervised_learn_train_df.head()"
   ]
  },
  {
   "cell_type": "code",
   "execution_count": 174,
   "metadata": {
    "scrolled": false
   },
   "outputs": [
    {
     "data": {
      "text/html": [
       "<div>\n",
       "<style scoped>\n",
       "    .dataframe tbody tr th:only-of-type {\n",
       "        vertical-align: middle;\n",
       "    }\n",
       "\n",
       "    .dataframe tbody tr th {\n",
       "        vertical-align: top;\n",
       "    }\n",
       "\n",
       "    .dataframe thead th {\n",
       "        text-align: right;\n",
       "    }\n",
       "</style>\n",
       "<table border=\"1\" class=\"dataframe\">\n",
       "  <thead>\n",
       "    <tr style=\"text-align: right;\">\n",
       "      <th></th>\n",
       "      <th>acc</th>\n",
       "      <th>precision</th>\n",
       "      <th>recall</th>\n",
       "      <th>F_score</th>\n",
       "      <th>AUC</th>\n",
       "    </tr>\n",
       "  </thead>\n",
       "  <tbody>\n",
       "    <tr>\n",
       "      <th>0</th>\n",
       "      <td>0.631579</td>\n",
       "      <td>0.631579</td>\n",
       "      <td>1.000000</td>\n",
       "      <td>0.774194</td>\n",
       "      <td>0.830688</td>\n",
       "    </tr>\n",
       "    <tr>\n",
       "      <th>1</th>\n",
       "      <td>0.122807</td>\n",
       "      <td>0.000000</td>\n",
       "      <td>0.000000</td>\n",
       "      <td>0.000000</td>\n",
       "      <td>0.806878</td>\n",
       "    </tr>\n",
       "    <tr>\n",
       "      <th>2</th>\n",
       "      <td>0.631579</td>\n",
       "      <td>0.631579</td>\n",
       "      <td>1.000000</td>\n",
       "      <td>0.774194</td>\n",
       "      <td>0.741071</td>\n",
       "    </tr>\n",
       "    <tr>\n",
       "      <th>3</th>\n",
       "      <td>0.149123</td>\n",
       "      <td>0.037037</td>\n",
       "      <td>0.013889</td>\n",
       "      <td>0.020202</td>\n",
       "      <td>0.865410</td>\n",
       "    </tr>\n",
       "    <tr>\n",
       "      <th>4</th>\n",
       "      <td>0.631579</td>\n",
       "      <td>0.631579</td>\n",
       "      <td>1.000000</td>\n",
       "      <td>0.774194</td>\n",
       "      <td>0.764220</td>\n",
       "    </tr>\n",
       "  </tbody>\n",
       "</table>\n",
       "</div>"
      ],
      "text/plain": [
       "        acc  precision    recall   F_score       AUC\n",
       "0  0.631579   0.631579  1.000000  0.774194  0.830688\n",
       "1  0.122807   0.000000  0.000000  0.000000  0.806878\n",
       "2  0.631579   0.631579  1.000000  0.774194  0.741071\n",
       "3  0.149123   0.037037  0.013889  0.020202  0.865410\n",
       "4  0.631579   0.631579  1.000000  0.774194  0.764220"
      ]
     },
     "execution_count": 174,
     "metadata": {},
     "output_type": "execute_result"
    }
   ],
   "source": [
    "real_un_supervised_learn_test_df.head()"
   ]
  },
  {
   "cell_type": "markdown",
   "metadata": {},
   "source": [
    "#### spectral_clustering train and test data"
   ]
  },
  {
   "cell_type": "code",
   "execution_count": 175,
   "metadata": {},
   "outputs": [
    {
     "data": {
      "text/html": [
       "<div>\n",
       "<style scoped>\n",
       "    .dataframe tbody tr th:only-of-type {\n",
       "        vertical-align: middle;\n",
       "    }\n",
       "\n",
       "    .dataframe tbody tr th {\n",
       "        vertical-align: top;\n",
       "    }\n",
       "\n",
       "    .dataframe thead th {\n",
       "        text-align: right;\n",
       "    }\n",
       "</style>\n",
       "<table border=\"1\" class=\"dataframe\">\n",
       "  <thead>\n",
       "    <tr style=\"text-align: right;\">\n",
       "      <th></th>\n",
       "      <th>acc</th>\n",
       "      <th>precision</th>\n",
       "      <th>recall</th>\n",
       "      <th>F_score</th>\n",
       "      <th>AUC</th>\n",
       "    </tr>\n",
       "  </thead>\n",
       "  <tbody>\n",
       "    <tr>\n",
       "      <th>0</th>\n",
       "      <td>0.863736</td>\n",
       "      <td>0.823188</td>\n",
       "      <td>0.996491</td>\n",
       "      <td>0.901587</td>\n",
       "      <td>0.163488</td>\n",
       "    </tr>\n",
       "    <tr>\n",
       "      <th>1</th>\n",
       "      <td>0.879121</td>\n",
       "      <td>0.842262</td>\n",
       "      <td>0.992982</td>\n",
       "      <td>0.911433</td>\n",
       "      <td>0.163550</td>\n",
       "    </tr>\n",
       "    <tr>\n",
       "      <th>2</th>\n",
       "      <td>0.890110</td>\n",
       "      <td>0.854985</td>\n",
       "      <td>0.992982</td>\n",
       "      <td>0.918831</td>\n",
       "      <td>0.173106</td>\n",
       "    </tr>\n",
       "    <tr>\n",
       "      <th>3</th>\n",
       "      <td>0.821978</td>\n",
       "      <td>0.780220</td>\n",
       "      <td>0.996491</td>\n",
       "      <td>0.875193</td>\n",
       "      <td>0.158390</td>\n",
       "    </tr>\n",
       "    <tr>\n",
       "      <th>4</th>\n",
       "      <td>0.854945</td>\n",
       "      <td>0.813754</td>\n",
       "      <td>0.996491</td>\n",
       "      <td>0.895899</td>\n",
       "      <td>0.171290</td>\n",
       "    </tr>\n",
       "  </tbody>\n",
       "</table>\n",
       "</div>"
      ],
      "text/plain": [
       "        acc  precision    recall   F_score       AUC\n",
       "0  0.863736   0.823188  0.996491  0.901587  0.163488\n",
       "1  0.879121   0.842262  0.992982  0.911433  0.163550\n",
       "2  0.890110   0.854985  0.992982  0.918831  0.173106\n",
       "3  0.821978   0.780220  0.996491  0.875193  0.158390\n",
       "4  0.854945   0.813754  0.996491  0.895899  0.171290"
      ]
     },
     "execution_count": 175,
     "metadata": {},
     "output_type": "execute_result"
    }
   ],
   "source": [
    "real_spectral_clustering_train_df.head()"
   ]
  },
  {
   "cell_type": "code",
   "execution_count": 176,
   "metadata": {
    "scrolled": true
   },
   "outputs": [
    {
     "data": {
      "text/html": [
       "<div>\n",
       "<style scoped>\n",
       "    .dataframe tbody tr th:only-of-type {\n",
       "        vertical-align: middle;\n",
       "    }\n",
       "\n",
       "    .dataframe tbody tr th {\n",
       "        vertical-align: top;\n",
       "    }\n",
       "\n",
       "    .dataframe thead th {\n",
       "        text-align: right;\n",
       "    }\n",
       "</style>\n",
       "<table border=\"1\" class=\"dataframe\">\n",
       "  <thead>\n",
       "    <tr style=\"text-align: right;\">\n",
       "      <th></th>\n",
       "      <th>acc</th>\n",
       "      <th>precision</th>\n",
       "      <th>recall</th>\n",
       "      <th>F_score</th>\n",
       "      <th>AUC</th>\n",
       "    </tr>\n",
       "  </thead>\n",
       "  <tbody>\n",
       "    <tr>\n",
       "      <th>0</th>\n",
       "      <td>0.807018</td>\n",
       "      <td>0.765957</td>\n",
       "      <td>1.000000</td>\n",
       "      <td>0.867470</td>\n",
       "      <td>0.153770</td>\n",
       "    </tr>\n",
       "    <tr>\n",
       "      <th>1</th>\n",
       "      <td>0.877193</td>\n",
       "      <td>0.837209</td>\n",
       "      <td>1.000000</td>\n",
       "      <td>0.911392</td>\n",
       "      <td>0.152116</td>\n",
       "    </tr>\n",
       "    <tr>\n",
       "      <th>2</th>\n",
       "      <td>0.728070</td>\n",
       "      <td>0.699029</td>\n",
       "      <td>1.000000</td>\n",
       "      <td>0.822857</td>\n",
       "      <td>0.139220</td>\n",
       "    </tr>\n",
       "    <tr>\n",
       "      <th>3</th>\n",
       "      <td>0.877193</td>\n",
       "      <td>0.837209</td>\n",
       "      <td>1.000000</td>\n",
       "      <td>0.911392</td>\n",
       "      <td>0.180556</td>\n",
       "    </tr>\n",
       "    <tr>\n",
       "      <th>4</th>\n",
       "      <td>0.903509</td>\n",
       "      <td>0.896104</td>\n",
       "      <td>0.958333</td>\n",
       "      <td>0.926174</td>\n",
       "      <td>0.168651</td>\n",
       "    </tr>\n",
       "  </tbody>\n",
       "</table>\n",
       "</div>"
      ],
      "text/plain": [
       "        acc  precision    recall   F_score       AUC\n",
       "0  0.807018   0.765957  1.000000  0.867470  0.153770\n",
       "1  0.877193   0.837209  1.000000  0.911392  0.152116\n",
       "2  0.728070   0.699029  1.000000  0.822857  0.139220\n",
       "3  0.877193   0.837209  1.000000  0.911392  0.180556\n",
       "4  0.903509   0.896104  0.958333  0.926174  0.168651"
      ]
     },
     "execution_count": 176,
     "metadata": {},
     "output_type": "execute_result"
    }
   ],
   "source": [
    "real_spectral_clustering_test_df.head()"
   ]
  },
  {
   "cell_type": "markdown",
   "metadata": {},
   "source": [
    "### 2. Active Learning Using Support Vector Machines\n",
    "### (a) Download the banknote authentication Data Set from: https://archive.ics.uci.edu/ml/datasets/banknote+authentication. Choose 472 data points randomly as the test set, and the remaining 900 points as the training set. This is a binary classification problem.\n"
   ]
  },
  {
   "cell_type": "code",
   "execution_count": 20,
   "metadata": {},
   "outputs": [],
   "source": [
    "fileName2 = 'https://raw.githubusercontent.com/Tony-nkt/inf_552/master/data_banknote_authentication.txt'"
   ]
  },
  {
   "cell_type": "code",
   "execution_count": 21,
   "metadata": {},
   "outputs": [],
   "source": [
    "df_2 = pd.read_csv(fileName2,header=None)"
   ]
  },
  {
   "cell_type": "code",
   "execution_count": 22,
   "metadata": {},
   "outputs": [],
   "source": [
    "df_2.rename(columns={4:'class'},inplace=True)"
   ]
  },
  {
   "cell_type": "markdown",
   "metadata": {},
   "source": [
    "### (b) Repeat each of the following two procedures 50 times. You will have 50 errors for 90 SVMs per each procedure.\n",
    "### i. Train a SVM with a pool of 10 randomly selected data points from the training set using linear kernel and L1 penalty. Select the penalty parameter using 10-fold cross validation. Repeat this process by adding 10 other randomly selected data points to the pool, until you use all the 900 points. Do NOT replace the samples back into the training set at each step. Calculate the test error for each SVM. You will have 90 SVMs that were trained using 10, 20, 30, ... , 900 data points and their 90 test errors. You have implemented passive learning."
   ]
  },
  {
   "cell_type": "markdown",
   "metadata": {},
   "source": [
    "#### Performing Normalize data for X_train_2,X_test_2 and X_pool_2"
   ]
  },
  {
   "cell_type": "markdown",
   "metadata": {},
   "source": [
    "##### Fix error for CV-10, n=10 and class (makes sure that class has 2)"
   ]
  },
  {
   "cell_type": "code",
   "execution_count": 23,
   "metadata": {},
   "outputs": [],
   "source": [
    "def passive_learn(df_train_2,X_test_2,y_test_2):\n",
    "    penalty_SVC = []\n",
    "    for i in range(-3,7):\n",
    "        penalty_SVC.append(10**i)\n",
    "    norm_X_test_2 = MinMaxScaler().fit_transform(X_test_2)\n",
    "    test_error_1 = defaultdict(list)\n",
    "    df_pool_2 = pd.DataFrame()\n",
    "    for _ in range(90):\n",
    "        tmp_df = df_train_2.sample(10)\n",
    "        df_pool_2 = df_pool_2.append(tmp_df)\n",
    "        df_train_2 = df_train_2.drop(tmp_df.index,axis=0)\n",
    "        while len(df_pool_2[\"class\"].value_counts()) < 2 or df_pool_2[\"class\"].value_counts()[1] < 0.2 * (df_pool_2[\"class\"].value_counts().values.sum()) or df_pool_2[\"class\"].value_counts()[0] < 0.2 * (df_pool_2[\"class\"].value_counts().values.sum()):\n",
    "            df_pool_2 = df_pool_2.drop(tmp_df.index,axis=0)\n",
    "            df_train_2 = df_train_2.append(tmp_df)\n",
    "            tmp_df = df_train_2.sample(10)\n",
    "            df_pool_2 = df_pool_2.append(tmp_df)\n",
    "            df_train_2 = df_train_2.drop(tmp_df.index,axis=0) \n",
    "        X_pool_2 = df_pool_2.iloc[:,:-1]\n",
    "        norm_X_pool_2 = MinMaxScaler().fit_transform(X_pool_2)\n",
    "        y_pool_2 = df_pool_2[\"class\"]\n",
    "        X_train_2 = df_train_2.iloc[:,:-1]\n",
    "        y_train_2 = df_train_2[\"class\"]\n",
    "        l1_model_SVC_2 = LinearSVC(loss='l2', penalty='l1', dual=False)\n",
    "        l1_param_grid = {'C': penalty_SVC}\n",
    "        l1_gridCV_2 = GridSearchCV(l1_model_SVC_2,scoring='accuracy',param_grid=l1_param_grid,refit=True,cv=KFold(10))\n",
    "        l1_gridCV_2.fit(norm_X_pool_2,y_pool_2)\n",
    "        pred_test = l1_gridCV_2.predict(norm_X_test_2)\n",
    "        test_error_1[\"test error\"].append(1-accuracy_score(y_test_2,pred_test))\n",
    "    return test_error_1"
   ]
  },
  {
   "cell_type": "markdown",
   "metadata": {},
   "source": [
    "### ii.) Train a SVM with a pool of 10 randomly selected data points from the training set using linear kernel and L1 penalty. Select the parameters of the SVM with 10-fold cross validation. Choose the 10 closest data points in the training set to the hyperplane of the SVM and add them to the pool. Do not replace the samples back into the training set. Train a new SVM using the pool. Repeat this process until all training data is used. You will have 90 SVMs that were trained using 10, 20, 30,..., 900 data points and their 90 test errors. You have implemented active learning."
   ]
  },
  {
   "cell_type": "code",
   "execution_count": 52,
   "metadata": {},
   "outputs": [],
   "source": [
    "def active_learn(df_train_2,X_test_2,y_test_2):\n",
    "    penalty_SVC = []\n",
    "    for i in range(-3,7):\n",
    "        penalty_SVC.append(10**i)\n",
    "    norm_X_test_2 = MinMaxScaler().fit_transform(X_test_2)\n",
    "    test_error_2 = defaultdict(list)\n",
    "    df_pool_2 = pd.DataFrame()\n",
    "    tmp_df = df_train_2.sample(10)\n",
    "    df_pool_2 = df_pool_2.append(tmp_df)\n",
    "    df_train_2 = df_train_2.drop(tmp_df.index,axis=0)\n",
    "    while len(df_pool_2[\"class\"].value_counts()) < 2 or df_pool_2[\"class\"].value_counts()[1] < 0.2 * (df_pool_2[\"class\"].value_counts().values.sum()) or df_pool_2[\"class\"].value_counts()[0] < 0.2 * (df_pool_2[\"class\"].value_counts().values.sum()):\n",
    "        df_pool_2 = df_pool_2.drop(tmp_df.index,axis=0)\n",
    "        df_train_2 = df_train_2.append(tmp_df)\n",
    "        tmp_df = df_train_2.sample(10)\n",
    "        df_pool_2 = df_pool_2.append(tmp_df)\n",
    "        df_train_2 = df_train_2.drop(tmp_df.index,axis=0) \n",
    "    X_pool_2 = df_pool_2.iloc[:,:-1]\n",
    "    norm_X_pool_2 = MinMaxScaler().fit_transform(X_pool_2)\n",
    "    y_pool_2 = df_pool_2[\"class\"]\n",
    "    X_train_2 = df_train_2.iloc[:,:-1]\n",
    "    y_train_2 = df_train_2[\"class\"]\n",
    "    l1_model_SVC_2 = LinearSVC(loss='l2', penalty='l1', dual=False)\n",
    "    \n",
    "    \n",
    "    \n",
    "    l1_param_grid = {'C': penalty_SVC}\n",
    "    l1_gridCV_2 = GridSearchCV(l1_model_SVC_2,scoring='accuracy',param_grid=l1_param_grid,refit=True,cv=KFold(10))\n",
    "    l1_gridCV_2.fit(norm_X_pool_2,y_pool_2)\n",
    "    test_error_2['C'].append(l1_gridCV_2.best_params_['C'])\n",
    "    pred_test = l1_gridCV_2.predict(norm_X_test_2)\n",
    "    test_error_2[\"test error\"].append(1-accuracy_score(y_test_2,pred_test))\n",
    "    y = l1_gridCV_2.decision_function(X_train_2)\n",
    "    dist = y\n",
    "    dist = np.fabs(dist)\n",
    "    df_train_2[\"dist\"] = dist\n",
    "    for _ in range(89):\n",
    "        min_10_indexes = df_train_2.sort_values(\"dist\").iloc[:10].index\n",
    "        tmp_df = df_train_2.drop(\"dist\",axis=1).loc[min_10_indexes]\n",
    "        df_pool_2 = df_pool_2.append(tmp_df)\n",
    "        df_train_2.drop(tmp_df.index,axis=0)\n",
    "        \n",
    "        i = 1\n",
    "        while len(df_pool_2[\"class\"].value_counts()) < 2 or df_pool_2[\"class\"].value_counts()[1] < 0.2 * (df_pool_2[\"class\"].value_counts().values.sum()) or df_pool_2[\"class\"].value_counts()[0] < 0.2 * (df_pool_2[\"class\"].value_counts().values.sum()):\n",
    "            df_pool_2 = df_pool_2.drop(tmp_df.index,axis=0)\n",
    "            df_train_2 = df_train_2.append(tmp_df)\n",
    "            min_10_indexes = df_train_2.sort_values(\"dist\").iloc[i:10+i].index\n",
    "            tmp_df = df_train_2.drop(\"dist\",axis=1).loc[min_10_indexes]\n",
    "            df_pool_2 = df_pool_2.append(tmp_df)\n",
    "            df_train_2 = df_train_2.drop(tmp_df.index,axis=0) \n",
    "            i +=1\n",
    "\n",
    "        X_pool_2 = df_pool_2.iloc[:,:-1]\n",
    "        norm_X_pool_2 = MinMaxScaler().fit_transform(X_pool_2)\n",
    "        y_pool_2 = df_pool_2[\"class\"]\n",
    "        X_train_2 = df_train_2.iloc[:,:-1]\n",
    "        y_train_2 = df_train_2[\"class\"]\n",
    "        l1_model_SVC_2 = LinearSVC(loss='l2', penalty='l1', dual=False)\n",
    "        l1_param_grid = {'C': penalty_SVC}\n",
    "        l1_gridCV_2 = GridSearchCV(l1_model_SVC_2,scoring='accuracy',param_grid=l1_param_grid,refit=True,cv=KFold(10))\n",
    "        l1_gridCV_2.fit(norm_X_pool_2,y_pool_2)\n",
    "        pred_test = l1_gridCV_2.predict(norm_X_test_2)\n",
    "        test_error_2[\"test error\"].append(1-accuracy_score(y_test_2,pred_test))\n",
    "    return test_error_2"
   ]
  },
  {
   "cell_type": "markdown",
   "metadata": {},
   "source": [
    "### (c) Average the 50 test errors for each of the incrementally trained 90 SVMs in 2(b)i and 2(b)ii. By doing so, you are performing a Monte Carlo simulation. Plot average test error versus number of training instances for both active and passive learners on the same figure and report your conclusions. Here, you are actually obtaining a learning curve by Monte-Carlo simulation."
   ]
  },
  {
   "cell_type": "code",
   "execution_count": 25,
   "metadata": {},
   "outputs": [],
   "source": [
    "all_test_error_01 = {}\n",
    "all_test_error_02 = {}"
   ]
  },
  {
   "cell_type": "code",
   "execution_count": 177,
   "metadata": {},
   "outputs": [],
   "source": [
    "for i in range(50):\n",
    "    df_test_2 = df_2.sample(n=472, random_state = i+50)\n",
    "    df_train_2 = df_2.drop(df_test_2.index,axis=0)\n",
    "    X_train_2 = df_train_2.iloc[:,:-1]\n",
    "    y_train_2 = df_train_2[\"class\"]\n",
    "    X_test_2 = df_test_2.iloc[:,:-1]\n",
    "    y_test_2 = df_test_2[\"class\"]\n",
    "    all_test_error_01[i] = passive_learn(df_train_2,X_test_2,y_test_2)[\"test error\"]\n",
    "    all_test_error_02[i] = active_learn(df_train_2,X_test_2,y_test_2)[\"test error\"]"
   ]
  },
  {
   "cell_type": "code",
   "execution_count": 225,
   "metadata": {},
   "outputs": [],
   "source": [
    "all_test_error_01 = pd.DataFrame(all_test_error_01)\n"
   ]
  },
  {
   "cell_type": "code",
   "execution_count": 226,
   "metadata": {},
   "outputs": [],
   "source": [
    "all_test_error_01['mean'] = all_test_error_01.mean(axis=1)\n"
   ]
  },
  {
   "cell_type": "code",
   "execution_count": 227,
   "metadata": {},
   "outputs": [],
   "source": [
    "pas_mean = np.array(all_test_error_01['mean'])\n"
   ]
  },
  {
   "cell_type": "code",
   "execution_count": 254,
   "metadata": {},
   "outputs": [],
   "source": [
    "all_test_error_02 = pd.DataFrame(all_test_error_02)\n"
   ]
  },
  {
   "cell_type": "code",
   "execution_count": 255,
   "metadata": {},
   "outputs": [],
   "source": [
    "all_test_error_02['mean'] = all_test_error_02.mean(axis=1)\n"
   ]
  },
  {
   "cell_type": "code",
   "execution_count": 256,
   "metadata": {},
   "outputs": [],
   "source": [
    "act_mean = np.array(all_test_error_02['mean'])\n"
   ]
  },
  {
   "cell_type": "code",
   "execution_count": 257,
   "metadata": {},
   "outputs": [
    {
     "data": {
      "image/png": "[encoded data removed]",
      "text/plain": [
       "<Figure size 1440x720 with 1 Axes>"
      ]
     },
     "metadata": {
      "needs_background": "light"
     },
     "output_type": "display_data"
    }
   ],
   "source": [
    "plt.figure(figsize=(20,10))\n",
    "plt.plot(range(10,901,10), act_mean, color='red',linewidth=3,label=\"active_learning\")\n",
    "plt.plot(range(10,901,10), pas_mean, color='blue',linewidth=3,label=\"passive_learning\")\n",
    "plt.xlabel(\"NO. of pooling set\")\n",
    "plt.ylabel(\"Test Error\")\n",
    "plt.legend(loc=2)\n",
    "plt.show()"
   ]
  },
  {
   "cell_type": "markdown",
   "metadata": {},
   "source": [
    "### Conclusion"
   ]
  },
  {
   "cell_type": "markdown",
   "metadata": {},
   "source": [
    "#### The blue line shows the passive learning curve, meanwhile the red line shows active learning curve. At first, the passive learning has more errors than active learning. However, when the number of pooling set is 220, the passive curve goes down and the active curve error is steady."
   ]
  },
  {
   "cell_type": "code",
   "execution_count": 233,
   "metadata": {},
   "outputs": [],
   "source": [
    "all_test_error_01 = pd.DataFrame(all_test_error_01)\n"
   ]
  },
  {
   "cell_type": "code",
   "execution_count": 234,
   "metadata": {},
   "outputs": [],
   "source": [
    "all_test_error_02 = pd.DataFrame(all_test_error_02)\n"
   ]
  },
  {
   "cell_type": "code",
   "execution_count": 237,
   "metadata": {},
   "outputs": [
    {
     "data": {
      "text/html": [
       "<div>\n",
       "<style scoped>\n",
       "    .dataframe tbody tr th:only-of-type {\n",
       "        vertical-align: middle;\n",
       "    }\n",
       "\n",
       "    .dataframe tbody tr th {\n",
       "        vertical-align: top;\n",
       "    }\n",
       "\n",
       "    .dataframe thead th {\n",
       "        text-align: right;\n",
       "    }\n",
       "</style>\n",
       "<table border=\"1\" class=\"dataframe\">\n",
       "  <thead>\n",
       "    <tr style=\"text-align: right;\">\n",
       "      <th></th>\n",
       "      <th>0</th>\n",
       "      <th>1</th>\n",
       "      <th>2</th>\n",
       "      <th>3</th>\n",
       "      <th>4</th>\n",
       "      <th>5</th>\n",
       "      <th>6</th>\n",
       "      <th>7</th>\n",
       "      <th>8</th>\n",
       "      <th>9</th>\n",
       "      <th>...</th>\n",
       "      <th>41</th>\n",
       "      <th>42</th>\n",
       "      <th>43</th>\n",
       "      <th>44</th>\n",
       "      <th>45</th>\n",
       "      <th>46</th>\n",
       "      <th>47</th>\n",
       "      <th>48</th>\n",
       "      <th>49</th>\n",
       "      <th>mean</th>\n",
       "    </tr>\n",
       "  </thead>\n",
       "  <tbody>\n",
       "    <tr>\n",
       "      <th>0</th>\n",
       "      <td>0.150424</td>\n",
       "      <td>0.491525</td>\n",
       "      <td>0.421610</td>\n",
       "      <td>0.459746</td>\n",
       "      <td>0.175847</td>\n",
       "      <td>0.451271</td>\n",
       "      <td>0.580508</td>\n",
       "      <td>0.415254</td>\n",
       "      <td>0.186441</td>\n",
       "      <td>0.423729</td>\n",
       "      <td>...</td>\n",
       "      <td>0.241525</td>\n",
       "      <td>0.061441</td>\n",
       "      <td>0.027542</td>\n",
       "      <td>0.213983</td>\n",
       "      <td>0.076271</td>\n",
       "      <td>0.345339</td>\n",
       "      <td>0.127119</td>\n",
       "      <td>0.152542</td>\n",
       "      <td>0.122881</td>\n",
       "      <td>0.213602</td>\n",
       "    </tr>\n",
       "    <tr>\n",
       "      <th>1</th>\n",
       "      <td>0.052966</td>\n",
       "      <td>0.457627</td>\n",
       "      <td>0.040254</td>\n",
       "      <td>0.086864</td>\n",
       "      <td>0.148305</td>\n",
       "      <td>0.165254</td>\n",
       "      <td>0.088983</td>\n",
       "      <td>0.230932</td>\n",
       "      <td>0.044492</td>\n",
       "      <td>0.052966</td>\n",
       "      <td>...</td>\n",
       "      <td>0.230932</td>\n",
       "      <td>0.091102</td>\n",
       "      <td>0.038136</td>\n",
       "      <td>0.294492</td>\n",
       "      <td>0.042373</td>\n",
       "      <td>0.067797</td>\n",
       "      <td>0.148305</td>\n",
       "      <td>0.025424</td>\n",
       "      <td>0.052966</td>\n",
       "      <td>0.102500</td>\n",
       "    </tr>\n",
       "    <tr>\n",
       "      <th>2</th>\n",
       "      <td>0.101695</td>\n",
       "      <td>0.105932</td>\n",
       "      <td>0.048729</td>\n",
       "      <td>0.069915</td>\n",
       "      <td>0.048729</td>\n",
       "      <td>0.114407</td>\n",
       "      <td>0.046610</td>\n",
       "      <td>0.055085</td>\n",
       "      <td>0.112288</td>\n",
       "      <td>0.052966</td>\n",
       "      <td>...</td>\n",
       "      <td>0.190678</td>\n",
       "      <td>0.105932</td>\n",
       "      <td>0.033898</td>\n",
       "      <td>0.110169</td>\n",
       "      <td>0.050847</td>\n",
       "      <td>0.031780</td>\n",
       "      <td>0.135593</td>\n",
       "      <td>0.103814</td>\n",
       "      <td>0.069915</td>\n",
       "      <td>0.069492</td>\n",
       "    </tr>\n",
       "    <tr>\n",
       "      <th>3</th>\n",
       "      <td>0.065678</td>\n",
       "      <td>0.072034</td>\n",
       "      <td>0.027542</td>\n",
       "      <td>0.101695</td>\n",
       "      <td>0.103814</td>\n",
       "      <td>0.165254</td>\n",
       "      <td>0.023305</td>\n",
       "      <td>0.093220</td>\n",
       "      <td>0.125000</td>\n",
       "      <td>0.095339</td>\n",
       "      <td>...</td>\n",
       "      <td>0.103814</td>\n",
       "      <td>0.108051</td>\n",
       "      <td>0.040254</td>\n",
       "      <td>0.044492</td>\n",
       "      <td>0.052966</td>\n",
       "      <td>0.036017</td>\n",
       "      <td>0.076271</td>\n",
       "      <td>0.023305</td>\n",
       "      <td>0.048729</td>\n",
       "      <td>0.059364</td>\n",
       "    </tr>\n",
       "    <tr>\n",
       "      <th>4</th>\n",
       "      <td>0.029661</td>\n",
       "      <td>0.040254</td>\n",
       "      <td>0.031780</td>\n",
       "      <td>0.021186</td>\n",
       "      <td>0.021186</td>\n",
       "      <td>0.069915</td>\n",
       "      <td>0.025424</td>\n",
       "      <td>0.091102</td>\n",
       "      <td>0.116525</td>\n",
       "      <td>0.016949</td>\n",
       "      <td>...</td>\n",
       "      <td>0.110169</td>\n",
       "      <td>0.042373</td>\n",
       "      <td>0.019068</td>\n",
       "      <td>0.029661</td>\n",
       "      <td>0.027542</td>\n",
       "      <td>0.040254</td>\n",
       "      <td>0.074153</td>\n",
       "      <td>0.052966</td>\n",
       "      <td>0.042373</td>\n",
       "      <td>0.045085</td>\n",
       "    </tr>\n",
       "  </tbody>\n",
       "</table>\n",
       "<p>5 rows × 51 columns</p>\n",
       "</div>"
      ],
      "text/plain": [
       "          0         1         2         3         4         5         6  \\\n",
       "0  0.150424  0.491525  0.421610  0.459746  0.175847  0.451271  0.580508   \n",
       "1  0.052966  0.457627  0.040254  0.086864  0.148305  0.165254  0.088983   \n",
       "2  0.101695  0.105932  0.048729  0.069915  0.048729  0.114407  0.046610   \n",
       "3  0.065678  0.072034  0.027542  0.101695  0.103814  0.165254  0.023305   \n",
       "4  0.029661  0.040254  0.031780  0.021186  0.021186  0.069915  0.025424   \n",
       "\n",
       "          7         8         9  ...        41        42        43        44  \\\n",
       "0  0.415254  0.186441  0.423729  ...  0.241525  0.061441  0.027542  0.213983   \n",
       "1  0.230932  0.044492  0.052966  ...  0.230932  0.091102  0.038136  0.294492   \n",
       "2  0.055085  0.112288  0.052966  ...  0.190678  0.105932  0.033898  0.110169   \n",
       "3  0.093220  0.125000  0.095339  ...  0.103814  0.108051  0.040254  0.044492   \n",
       "4  0.091102  0.116525  0.016949  ...  0.110169  0.042373  0.019068  0.029661   \n",
       "\n",
       "         45        46        47        48        49      mean  \n",
       "0  0.076271  0.345339  0.127119  0.152542  0.122881  0.213602  \n",
       "1  0.042373  0.067797  0.148305  0.025424  0.052966  0.102500  \n",
       "2  0.050847  0.031780  0.135593  0.103814  0.069915  0.069492  \n",
       "3  0.052966  0.036017  0.076271  0.023305  0.048729  0.059364  \n",
       "4  0.027542  0.040254  0.074153  0.052966  0.042373  0.045085  \n",
       "\n",
       "[5 rows x 51 columns]"
      ]
     },
     "execution_count": 237,
     "metadata": {},
     "output_type": "execute_result"
    }
   ],
   "source": [
    "all_test_error_01.head()\n"
   ]
  },
  {
   "cell_type": "code",
   "execution_count": 238,
   "metadata": {},
   "outputs": [
    {
     "data": {
      "text/html": [
       "<div>\n",
       "<style scoped>\n",
       "    .dataframe tbody tr th:only-of-type {\n",
       "        vertical-align: middle;\n",
       "    }\n",
       "\n",
       "    .dataframe tbody tr th {\n",
       "        vertical-align: top;\n",
       "    }\n",
       "\n",
       "    .dataframe thead th {\n",
       "        text-align: right;\n",
       "    }\n",
       "</style>\n",
       "<table border=\"1\" class=\"dataframe\">\n",
       "  <thead>\n",
       "    <tr style=\"text-align: right;\">\n",
       "      <th></th>\n",
       "      <th>0</th>\n",
       "      <th>1</th>\n",
       "      <th>2</th>\n",
       "      <th>3</th>\n",
       "      <th>4</th>\n",
       "      <th>5</th>\n",
       "      <th>6</th>\n",
       "      <th>7</th>\n",
       "      <th>8</th>\n",
       "      <th>9</th>\n",
       "      <th>...</th>\n",
       "      <th>41</th>\n",
       "      <th>42</th>\n",
       "      <th>43</th>\n",
       "      <th>44</th>\n",
       "      <th>45</th>\n",
       "      <th>46</th>\n",
       "      <th>47</th>\n",
       "      <th>48</th>\n",
       "      <th>49</th>\n",
       "      <th>mean</th>\n",
       "    </tr>\n",
       "  </thead>\n",
       "  <tbody>\n",
       "    <tr>\n",
       "      <th>0</th>\n",
       "      <td>0.330508</td>\n",
       "      <td>0.144068</td>\n",
       "      <td>0.205508</td>\n",
       "      <td>0.152542</td>\n",
       "      <td>0.161017</td>\n",
       "      <td>0.379237</td>\n",
       "      <td>0.241525</td>\n",
       "      <td>0.173729</td>\n",
       "      <td>0.199153</td>\n",
       "      <td>0.201271</td>\n",
       "      <td>...</td>\n",
       "      <td>0.394068</td>\n",
       "      <td>0.317797</td>\n",
       "      <td>0.383475</td>\n",
       "      <td>0.146186</td>\n",
       "      <td>0.114407</td>\n",
       "      <td>0.173729</td>\n",
       "      <td>0.364407</td>\n",
       "      <td>0.171610</td>\n",
       "      <td>0.137712</td>\n",
       "      <td>0.228347</td>\n",
       "    </tr>\n",
       "    <tr>\n",
       "      <th>1</th>\n",
       "      <td>0.099576</td>\n",
       "      <td>0.074153</td>\n",
       "      <td>0.152542</td>\n",
       "      <td>0.048729</td>\n",
       "      <td>0.101695</td>\n",
       "      <td>0.182203</td>\n",
       "      <td>0.266949</td>\n",
       "      <td>0.091102</td>\n",
       "      <td>0.088983</td>\n",
       "      <td>0.192797</td>\n",
       "      <td>...</td>\n",
       "      <td>0.146186</td>\n",
       "      <td>0.127119</td>\n",
       "      <td>0.207627</td>\n",
       "      <td>0.021186</td>\n",
       "      <td>0.173729</td>\n",
       "      <td>0.103814</td>\n",
       "      <td>0.095339</td>\n",
       "      <td>0.029661</td>\n",
       "      <td>0.169492</td>\n",
       "      <td>0.126610</td>\n",
       "    </tr>\n",
       "    <tr>\n",
       "      <th>2</th>\n",
       "      <td>0.084746</td>\n",
       "      <td>0.080508</td>\n",
       "      <td>0.086864</td>\n",
       "      <td>0.093220</td>\n",
       "      <td>0.243644</td>\n",
       "      <td>0.188559</td>\n",
       "      <td>0.141949</td>\n",
       "      <td>0.097458</td>\n",
       "      <td>0.097458</td>\n",
       "      <td>0.192797</td>\n",
       "      <td>...</td>\n",
       "      <td>0.131356</td>\n",
       "      <td>0.127119</td>\n",
       "      <td>0.173729</td>\n",
       "      <td>0.016949</td>\n",
       "      <td>0.199153</td>\n",
       "      <td>0.105932</td>\n",
       "      <td>0.040254</td>\n",
       "      <td>0.050847</td>\n",
       "      <td>0.182203</td>\n",
       "      <td>0.124407</td>\n",
       "    </tr>\n",
       "    <tr>\n",
       "      <th>3</th>\n",
       "      <td>0.027542</td>\n",
       "      <td>0.084746</td>\n",
       "      <td>0.080508</td>\n",
       "      <td>0.059322</td>\n",
       "      <td>0.133475</td>\n",
       "      <td>0.141949</td>\n",
       "      <td>0.141949</td>\n",
       "      <td>0.105932</td>\n",
       "      <td>0.099576</td>\n",
       "      <td>0.186441</td>\n",
       "      <td>...</td>\n",
       "      <td>0.116525</td>\n",
       "      <td>0.129237</td>\n",
       "      <td>0.152542</td>\n",
       "      <td>0.016949</td>\n",
       "      <td>0.112288</td>\n",
       "      <td>0.114407</td>\n",
       "      <td>0.025424</td>\n",
       "      <td>0.052966</td>\n",
       "      <td>0.201271</td>\n",
       "      <td>0.123347</td>\n",
       "    </tr>\n",
       "    <tr>\n",
       "      <th>4</th>\n",
       "      <td>0.019068</td>\n",
       "      <td>0.086864</td>\n",
       "      <td>0.086864</td>\n",
       "      <td>0.052966</td>\n",
       "      <td>0.197034</td>\n",
       "      <td>0.139831</td>\n",
       "      <td>0.476695</td>\n",
       "      <td>0.105932</td>\n",
       "      <td>0.103814</td>\n",
       "      <td>0.186441</td>\n",
       "      <td>...</td>\n",
       "      <td>0.133475</td>\n",
       "      <td>0.129237</td>\n",
       "      <td>0.139831</td>\n",
       "      <td>0.019068</td>\n",
       "      <td>0.158898</td>\n",
       "      <td>0.122881</td>\n",
       "      <td>0.112288</td>\n",
       "      <td>0.059322</td>\n",
       "      <td>0.199153</td>\n",
       "      <td>0.127458</td>\n",
       "    </tr>\n",
       "  </tbody>\n",
       "</table>\n",
       "<p>5 rows × 51 columns</p>\n",
       "</div>"
      ],
      "text/plain": [
       "          0         1         2         3         4         5         6  \\\n",
       "0  0.330508  0.144068  0.205508  0.152542  0.161017  0.379237  0.241525   \n",
       "1  0.099576  0.074153  0.152542  0.048729  0.101695  0.182203  0.266949   \n",
       "2  0.084746  0.080508  0.086864  0.093220  0.243644  0.188559  0.141949   \n",
       "3  0.027542  0.084746  0.080508  0.059322  0.133475  0.141949  0.141949   \n",
       "4  0.019068  0.086864  0.086864  0.052966  0.197034  0.139831  0.476695   \n",
       "\n",
       "          7         8         9  ...        41        42        43        44  \\\n",
       "0  0.173729  0.199153  0.201271  ...  0.394068  0.317797  0.383475  0.146186   \n",
       "1  0.091102  0.088983  0.192797  ...  0.146186  0.127119  0.207627  0.021186   \n",
       "2  0.097458  0.097458  0.192797  ...  0.131356  0.127119  0.173729  0.016949   \n",
       "3  0.105932  0.099576  0.186441  ...  0.116525  0.129237  0.152542  0.016949   \n",
       "4  0.105932  0.103814  0.186441  ...  0.133475  0.129237  0.139831  0.019068   \n",
       "\n",
       "         45        46        47        48        49      mean  \n",
       "0  0.114407  0.173729  0.364407  0.171610  0.137712  0.228347  \n",
       "1  0.173729  0.103814  0.095339  0.029661  0.169492  0.126610  \n",
       "2  0.199153  0.105932  0.040254  0.050847  0.182203  0.124407  \n",
       "3  0.112288  0.114407  0.025424  0.052966  0.201271  0.123347  \n",
       "4  0.158898  0.122881  0.112288  0.059322  0.199153  0.127458  \n",
       "\n",
       "[5 rows x 51 columns]"
      ]
     },
     "execution_count": 238,
     "metadata": {},
     "output_type": "execute_result"
    }
   ],
   "source": [
    "all_test_error_02.head()\n"
   ]
  }
 ],
 "metadata": {
  "kernelspec": {
   "display_name": "Python 3",
   "language": "python",
   "name": "python3"
  },
  "language_info": {
   "codemirror_mode": {
    "name": "ipython",
    "version": 3
   },
   "file_extension": ".py",
   "mimetype": "text/x-python",
   "name": "python",
   "nbconvert_exporter": "python",
   "pygments_lexer": "ipython3",
   "version": "3.7.1"
  }
 },
 "nbformat": 4,
 "nbformat_minor": 2
}
